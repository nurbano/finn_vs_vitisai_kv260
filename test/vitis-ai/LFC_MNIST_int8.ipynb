{
 "cells": [
  {
   "cell_type": "code",
   "execution_count": 1,
   "id": "837e1b53-cef8-4200-a190-65f5dc21a89f",
   "metadata": {},
   "outputs": [
    {
     "name": "stderr",
     "output_type": "stream",
     "text": [
      "/usr/local/share/pynq-venv/lib/python3.8/site-packages/pydantic/_internal/_config.py:322: UserWarning: Valid config keys have changed in V2:\n",
      "* 'underscore_attrs_are_private' has been removed\n",
      "  warnings.warn(message, UserWarning)\n",
      "/usr/local/share/pynq-venv/lib/python3.8/site-packages/pydantic/_internal/_config.py:322: UserWarning: Valid config keys have changed in V2:\n",
      "* 'underscore_attrs_are_private' has been removed\n",
      "  warnings.warn(message, UserWarning)\n",
      "/usr/local/share/pynq-venv/lib/python3.8/site-packages/pynq/pl_server/xrt_device.py:59: UserWarning: xbutil failed to run - unable to determine XRT version\n",
      "  warnings.warn(\"xbutil failed to run - unable to determine XRT version\")\n"
     ]
    },
    {
     "data": {
      "application/javascript": [
       "\n",
       "try {\n",
       "require(['notebook/js/codecell'], function(codecell) {\n",
       "  codecell.CodeCell.options_default.highlight_modes[\n",
       "      'magic_text/x-csrc'] = {'reg':[/^%%microblaze/]};\n",
       "  Jupyter.notebook.events.one('kernel_ready.Kernel', function(){\n",
       "      Jupyter.notebook.get_cells().map(function(cell){\n",
       "          if (cell.cell_type == 'code'){ cell.auto_highlight(); } }) ;\n",
       "  });\n",
       "});\n",
       "} catch (e) {};\n"
      ]
     },
     "metadata": {},
     "output_type": "display_data"
    },
    {
     "data": {
      "application/javascript": [
       "\n",
       "try {\n",
       "require(['notebook/js/codecell'], function(codecell) {\n",
       "  codecell.CodeCell.options_default.highlight_modes[\n",
       "      'magic_text/x-csrc'] = {'reg':[/^%%pybind11/]};\n",
       "  Jupyter.notebook.events.one('kernel_ready.Kernel', function(){\n",
       "      Jupyter.notebook.get_cells().map(function(cell){\n",
       "          if (cell.cell_type == 'code'){ cell.auto_highlight(); } }) ;\n",
       "  });\n",
       "});\n",
       "} catch (e) {};\n"
      ]
     },
     "metadata": {},
     "output_type": "display_data"
    }
   ],
   "source": [
    "from pynq_dpu import DpuOverlay\n",
    "overlay = DpuOverlay(\"dpu.bit\")"
   ]
  },
  {
   "cell_type": "code",
   "execution_count": 2,
   "id": "fcac3f97-281b-48fe-8a12-b7c882302d4b",
   "metadata": {},
   "outputs": [],
   "source": [
    "overlay.load_model(\"LFC_MNIST_KV260_v2.xmodel\")"
   ]
  },
  {
   "cell_type": "code",
   "execution_count": 3,
   "id": "27c86b60-6f43-4e14-831c-bb015347f4e5",
   "metadata": {},
   "outputs": [],
   "source": [
    "from time import time\n",
    "import numpy as np\n",
    "import matplotlib.pyplot as plt\n",
    "import os\n",
    "import cv2\n",
    "%matplotlib inline\n",
    "import xir"
   ]
  },
  {
   "cell_type": "code",
   "execution_count": 4,
   "id": "c5dfefbe-de38-4f40-951e-8926d57cd8df",
   "metadata": {},
   "outputs": [
    {
     "name": "stdout",
     "output_type": "stream",
     "text": [
      "Looking for Train Imgs\n",
      "Tar File found in data_dir. Not Downloading again\n",
      "Looking for Train Labels\n",
      "Tar File found in data_dir. Not Downloading again\n",
      "Looking for Test Imgs\n",
      "Tar File found in data_dir. Not Downloading again\n",
      "Looking for Test Labels\n",
      "Tar File found in data_dir. Not Downloading again\n"
     ]
    }
   ],
   "source": [
    "# graph= xir.Graph.deserialize(\"nuevo.xmodel\")\n",
    "# print(graph)\n",
    "\n",
    "from dataset_loading import mnist\n",
    "trainx, trainy, testx, testy, valx, valy = mnist.load_mnist_data(\"/home/root/jupyter_notebooks/case2024/datasets\", download=True, one_hot=False)"
   ]
  },
  {
   "cell_type": "code",
   "execution_count": 5,
   "id": "96c39a09-ced1-4d96-8443-9a9f963c2f35",
   "metadata": {},
   "outputs": [],
   "source": [
    "# images_path= \"./mnist_images\"\n",
    "# files= os.listdir(images_path)"
   ]
  },
  {
   "cell_type": "code",
   "execution_count": 6,
   "id": "d653f249",
   "metadata": {},
   "outputs": [
    {
     "data": {
      "text/plain": [
       "<matplotlib.image.AxesImage at 0xffff4afd9df0>"
      ]
     },
     "execution_count": 6,
     "metadata": {},
     "output_type": "execute_result"
    },
    {
     "data": {
      "image/png": "[encoded data removed]",
      "text/plain": [
       "<Figure size 432x288 with 1 Axes>"
      ]
     },
     "metadata": {
      "needs_background": "light"
     },
     "output_type": "display_data"
    }
   ],
   "source": [
    "plt.imshow(testx[0], cmap='gray')"
   ]
  },
  {
   "cell_type": "code",
   "execution_count": 7,
   "id": "1f02a406-ba9e-43b9-8b43-6cfeed8ad6de",
   "metadata": {},
   "outputs": [],
   "source": [
    "def preprocess_fn(image):\n",
    "    mean= [0.13101533792088266]\n",
    "    std= [0.3085401559245608]\n",
    "    \n",
    "#     image = cv2.imread(image_path)\n",
    "    #print(image.shape)\n",
    "#     image= cv2.cvtColor(image, cv2.COLOR_BGR2GRAY)\n",
    "#     image= np.expand_dims(image, axis=0)\n",
    "    image= image.squeeze()\n",
    "    #image= np.transpose(image, (1, 2, 0))\n",
    "    #print(image.shape)\n",
    "#     print(image.max())\n",
    "#     print(image.min())\n",
    "#     image= image.astype('float32')\n",
    "    image = image * (1/255.0)\n",
    "#     image= (image-mean)/std\n",
    "    image = image.reshape(4,14,14)\n",
    "#     print(image.max())\n",
    "#     print(image.min())\n",
    "\n",
    "#     image= image* fix_scale\n",
    "#     image= image.astype(np.int8)\n",
    "    return image"
   ]
  },
  {
   "cell_type": "code",
   "execution_count": 8,
   "id": "b413395e-93c9-464e-9f7d-9496c19948d7",
   "metadata": {},
   "outputs": [],
   "source": [
    "def desnorm(image):\n",
    "    mean= [0.13101533792088266]\n",
    "    std= [0.3085401559245608]\n",
    "#     image= image*std+mean\n",
    "    image = image.reshape(28,28,1)\n",
    "    return image"
   ]
  },
  {
   "cell_type": "code",
   "execution_count": 9,
   "id": "0a6d6eaa-38d3-473d-ad00-ebdf99e230dc",
   "metadata": {},
   "outputs": [],
   "source": [
    "# labels= []\n",
    "# for file in files:\n",
    "#     labels.append(file.split(\"_\")[0])"
   ]
  },
  {
   "cell_type": "code",
   "execution_count": 10,
   "id": "887f77c9-3da3-48c2-a944-38220f5c686a",
   "metadata": {},
   "outputs": [],
   "source": [
    "# index= 0\n",
    "# image_path= os.path.join(images_path, files[index])\n",
    "# image = cv2.imread(image_path)\n",
    "\n",
    "# mean= [0.485, 0.456, 0.406]\n",
    "# std= [0.229, 0.224, 0.225]\n",
    "# image= cv2.cvtColor(image, cv2.COLOR_BGR2RGB)\n",
    "\n",
    "# #image = image.reshape(32,32,3)\n",
    "# image = image * (1/255.0)\n",
    "# image= (image-mean)/std\n",
    "# image.max(), image.min()\n",
    "# #plt.imshow(image)\n",
    "# #print(labels[index])"
   ]
  },
  {
   "cell_type": "code",
   "execution_count": 11,
   "id": "9d6e286d-4aba-4fe9-ae6e-a105a281f390",
   "metadata": {},
   "outputs": [
    {
     "data": {
      "text/plain": [
       "(4, 14, 14)"
      ]
     },
     "execution_count": 11,
     "metadata": {},
     "output_type": "execute_result"
    }
   ],
   "source": [
    "index= 0\n",
    "# image_path= os.path.join(images_path, files[index])\n",
    "#print(image_path)\n",
    "img_pre= preprocess_fn(testx[index])\n",
    "img_pre.shape"
   ]
  },
  {
   "cell_type": "code",
   "execution_count": 12,
   "id": "1c6fae85-5f9c-4292-b114-b1e168afd853",
   "metadata": {},
   "outputs": [],
   "source": [
    "test_data= np.empty((len(testx),4,14,14))\n",
    "#test_data.shape\n",
    "# i=0\n",
    "for i in range(len(testx)):\n",
    "    \n",
    "    image= testx[i]\n",
    "    img_pre= preprocess_fn(image)\n",
    "    test_data[i,...]= img_pre\n",
    "#     i+=1"
   ]
  },
  {
   "cell_type": "code",
   "execution_count": 13,
   "id": "5d4a8300-d20f-40c0-bffe-a24072729e76",
   "metadata": {},
   "outputs": [
    {
     "data": {
      "text/plain": [
       "(28, 28, 1)"
      ]
     },
     "execution_count": 13,
     "metadata": {},
     "output_type": "execute_result"
    }
   ],
   "source": [
    "testx[0].shape"
   ]
  },
  {
   "cell_type": "code",
   "execution_count": 14,
   "id": "75b454aa",
   "metadata": {},
   "outputs": [
    {
     "data": {
      "text/plain": [
       "7"
      ]
     },
     "execution_count": 14,
     "metadata": {},
     "output_type": "execute_result"
    }
   ],
   "source": [
    "testy[0]"
   ]
  },
  {
   "cell_type": "code",
   "execution_count": 15,
   "id": "f2769c22",
   "metadata": {},
   "outputs": [],
   "source": [
    "import numpy as np"
   ]
  },
  {
   "cell_type": "code",
   "execution_count": 16,
   "id": "53bd9b99",
   "metadata": {},
   "outputs": [
    {
     "data": {
      "text/plain": [
       "4"
      ]
     },
     "execution_count": 16,
     "metadata": {},
     "output_type": "execute_result"
    }
   ],
   "source": [
    "test_data.shape[1]"
   ]
  },
  {
   "cell_type": "code",
   "execution_count": 17,
   "id": "46b68057",
   "metadata": {},
   "outputs": [
    {
     "name": "stdout",
     "output_type": "stream",
     "text": [
      "0.13251460584233693\n",
      "0.3036607680488869\n"
     ]
    }
   ],
   "source": [
    "Mean= np.empty(len(test_data))\n",
    "Std= np.empty(len(test_data))\n",
    "for i in range(len(test_data)):\n",
    "    Mean[i]=test_data[i].mean()\n",
    "    Std[i]=test_data[i].std()\n",
    "    \n",
    "print(Mean.mean())\n",
    "print(Std.mean())"
   ]
  },
  {
   "cell_type": "code",
   "execution_count": null,
   "id": "13e04d5b",
   "metadata": {},
   "outputs": [],
   "source": []
  },
  {
   "cell_type": "code",
   "execution_count": 18,
   "id": "9d67b464-e0dd-4a1b-b0de-8ea34523e04c",
   "metadata": {},
   "outputs": [],
   "source": [
    "dpu = overlay.runner\n",
    "\n",
    "inputTensors = dpu.get_input_tensors()\n",
    "outputTensors = dpu.get_output_tensors()\n",
    "\n",
    "shapeIn = tuple(inputTensors[0].dims)\n",
    "shapeOut = tuple(outputTensors[0].dims)\n",
    "outputSize = int(outputTensors[0].get_data_size() / shapeIn[0])\n",
    "\n",
    "softmax = np.empty(outputSize)"
   ]
  },
  {
   "cell_type": "code",
   "execution_count": 19,
   "id": "7faf9440-4dc2-497b-89f4-0c9ffba6b291",
   "metadata": {},
   "outputs": [
    {
     "data": {
      "text/plain": [
       "[1, 4, 14, 14]"
      ]
     },
     "execution_count": 19,
     "metadata": {},
     "output_type": "execute_result"
    }
   ],
   "source": [
    "inputTensors[0].dims"
   ]
  },
  {
   "cell_type": "code",
   "execution_count": 20,
   "id": "26387715-2f5e-4c94-a24f-f530b67bb50f",
   "metadata": {},
   "outputs": [
    {
     "data": {
      "text/plain": [
       "((1, 4, 14, 14), (1, 10))"
      ]
     },
     "execution_count": 20,
     "metadata": {},
     "output_type": "execute_result"
    }
   ],
   "source": [
    "shapeIn, shapeOut"
   ]
  },
  {
   "cell_type": "code",
   "execution_count": 21,
   "id": "3458178e-8283-4ba6-aae3-ce9ae97ae4c4",
   "metadata": {},
   "outputs": [],
   "source": [
    "output_data = [np.empty(shapeOut, dtype=np.float32, order=\"C\")]\n",
    "input_data = [np.empty(shapeIn, dtype=np.float32, order=\"C\")]\n",
    "image = input_data[0]"
   ]
  },
  {
   "cell_type": "code",
   "execution_count": 22,
   "id": "8e61d219-da2a-4870-9f4f-a9cee6e215df",
   "metadata": {},
   "outputs": [
    {
     "data": {
      "text/plain": [
       "(1, 4, 14, 14)"
      ]
     },
     "execution_count": 22,
     "metadata": {},
     "output_type": "execute_result"
    }
   ],
   "source": [
    "input_data[0].shape"
   ]
  },
  {
   "cell_type": "code",
   "execution_count": 23,
   "id": "208c4caa-1d56-4132-ae9b-6c44265c10af",
   "metadata": {},
   "outputs": [],
   "source": [
    "def calculate_softmax(data):\n",
    "    result = np.exp(data)\n",
    "    return result"
   ]
  },
  {
   "cell_type": "code",
   "execution_count": 24,
   "id": "01815457-188b-46f1-a8f2-bda6e0633bbb",
   "metadata": {},
   "outputs": [
    {
     "data": {
      "text/plain": [
       "(10000, 4, 14, 14)"
      ]
     },
     "execution_count": 24,
     "metadata": {},
     "output_type": "execute_result"
    }
   ],
   "source": [
    "test_data.shape"
   ]
  },
  {
   "cell_type": "code",
   "execution_count": 25,
   "id": "c465aa60-d082-4d28-96a7-8eef1f45d53e",
   "metadata": {},
   "outputs": [
    {
     "data": {
      "text/plain": [
       "(1, 4, 14, 14)"
      ]
     },
     "execution_count": 25,
     "metadata": {},
     "output_type": "execute_result"
    }
   ],
   "source": [
    "image[0,...] = test_data[0]\n",
    "\n",
    "image.shape"
   ]
  },
  {
   "cell_type": "code",
   "execution_count": 26,
   "id": "b69c4e14-ae8c-471a-ae44-f71290d7845e",
   "metadata": {},
   "outputs": [],
   "source": [
    "classes = ['zero', 'one' , 'two',\n",
    "    'three', 'four', 'five',\n",
    "    'six', 'seven', 'eight', 'nine']\n",
    "\n",
    "clases_np= np.array(classes)"
   ]
  },
  {
   "cell_type": "code",
   "execution_count": 27,
   "id": "27c469a5-fc3e-437e-9020-cfb3ab5c7cf4",
   "metadata": {},
   "outputs": [
    {
     "data": {
      "text/plain": [
       "(4, 14, 14)"
      ]
     },
     "execution_count": 27,
     "metadata": {},
     "output_type": "execute_result"
    }
   ],
   "source": [
    "test_data[1,:,:,:].shape\n",
    "\n",
    "#desnorm(test_data[1,:,:,:])"
   ]
  },
  {
   "cell_type": "code",
   "execution_count": 28,
   "id": "3737cb3d-2e6e-4fe0-9f43-47fefc815e44",
   "metadata": {},
   "outputs": [
    {
     "data": {
      "image/png": "[encoded data removed]",
      "text/plain": [
       "<Figure size 864x864 with 8 Axes>"
      ]
     },
     "metadata": {
      "needs_background": "light"
     },
     "output_type": "display_data"
    }
   ],
   "source": [
    "num_pics  = 8\n",
    "fix, ax = plt.subplots(1, num_pics, figsize=(12,12))\n",
    "plt.tight_layout()\n",
    "for i in range(num_pics):\n",
    "    \n",
    "    image[0,...] = test_data[i]\n",
    "    job_id = dpu.execute_async(input_data, output_data)\n",
    "    dpu.wait(job_id)\n",
    "    temp = [j.reshape(1, outputSize) for j in output_data]\n",
    "    softmax = calculate_softmax(temp[0][0])\n",
    "    prediction = softmax.argmax()\n",
    "\n",
    "    ax[i].set_title('Prediction: ' + classes[prediction])\n",
    "    ax[i].axis('off')\n",
    "    ax[i].imshow(desnorm(test_data[i,:,:,:]), cmap='gray')"
   ]
  },
  {
   "cell_type": "code",
   "execution_count": 29,
   "id": "2a6b8352-3615-4039-98c5-5b91d143973f",
   "metadata": {},
   "outputs": [
    {
     "name": "stdout",
     "output_type": "stream",
     "text": [
      "Classifying 10000 digit pictures ...\n",
      "Overall accuracy: 0.9653\n",
      "  Execution time: 7.1789s\n",
      "      Throughput: 1392.9635FPS\n"
     ]
    }
   ],
   "source": [
    "total = test_data.shape[0]\n",
    "test_label=testy\n",
    "predictions = np.empty_like(test_label)\n",
    "print(\"Classifying {} digit pictures ...\".format(total))\n",
    "correct=0\n",
    "start = time()\n",
    "for i in range(total):\n",
    "    image[0,...] = test_data[i]\n",
    "    job_id = dpu.execute_async(input_data, output_data)\n",
    "    dpu.wait(job_id)\n",
    "    temp = [j.reshape(1, outputSize) for j in output_data]\n",
    "    \n",
    "    softmax = calculate_softmax(temp[0][0])\n",
    "#     print(softmax.argmax())\n",
    "    predictions[i] = softmax.argmax()\n",
    "    if predictions[i]==test_label[i]:\n",
    "        correct+=1\n",
    "#     else:\n",
    "#         print(i)\n",
    "stop = time()\n",
    "#correct = np.sum(clases_np[predictions]==test_label)\n",
    "execution_time = stop-start\n",
    "print(\"Overall accuracy: {}\".format(correct/total))\n",
    "print(\"  Execution time: {:.4f}s\".format(execution_time))\n",
    "print(\"      Throughput: {:.4f}FPS\".format(total/execution_time))"
   ]
  },
  {
   "cell_type": "code",
   "execution_count": 30,
   "id": "355b0aff",
   "metadata": {},
   "outputs": [],
   "source": [
    "def latency_measurement():\n",
    "    image[0,...] = test_data[0]\n",
    "    job_id = dpu.execute_async(input_data, output_data)\n",
    "    dpu.wait(job_id)\n",
    "    temp = [j.reshape(1, outputSize) for j in output_data]\n",
    "    softmax = calculate_softmax(temp[0][0])\n",
    "    predictions  = softmax.argmax()"
   ]
  },
  {
   "cell_type": "code",
   "execution_count": 31,
   "id": "5b90fe73-a86a-445e-b12b-a88701f1ac24",
   "metadata": {},
   "outputs": [
    {
     "name": "stdout",
     "output_type": "stream",
     "text": [
      "822 µs ± 112 µs per loop (mean ± std. dev. of 7 runs, 1 loop each)\n"
     ]
    }
   ],
   "source": [
    "one_image_validation_time = %timeit -n 1 -o latency_measurement()"
   ]
  },
  {
   "cell_type": "code",
   "execution_count": 32,
   "id": "10ce0824-3ef4-400c-b0ed-aba9bb901d74",
   "metadata": {},
   "outputs": [],
   "source": [
    "del overlay\n"
   ]
  },
  {
   "cell_type": "code",
   "execution_count": 33,
   "id": "db89fe60-1726-4ece-abd2-bd6e221e1b48",
   "metadata": {},
   "outputs": [],
   "source": [
    "del dpu"
   ]
  },
  {
   "cell_type": "code",
   "execution_count": null,
   "id": "abd766f4",
   "metadata": {},
   "outputs": [],
   "source": []
  }
 ],
 "metadata": {
  "kernelspec": {
   "display_name": "Python 3",
   "language": "python",
   "name": "python3"
  },
  "language_info": {
   "codemirror_mode": {
    "name": "ipython",
    "version": 3
   },
   "file_extension": ".py",
   "mimetype": "text/x-python",
   "name": "python",
   "nbconvert_exporter": "python",
   "pygments_lexer": "ipython3",
   "version": "3.8.10"
  }
 },
 "nbformat": 4,
 "nbformat_minor": 5
}
