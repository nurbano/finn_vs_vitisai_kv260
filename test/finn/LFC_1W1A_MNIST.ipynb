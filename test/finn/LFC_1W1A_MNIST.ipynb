{
 "cells": [
  {
   "cell_type": "code",
   "execution_count": 1,
   "id": "2044a7ef",
   "metadata": {},
   "outputs": [
    {
     "name": "stderr",
     "output_type": "stream",
     "text": [
      "/usr/local/share/pynq-venv/lib/python3.8/site-packages/pydantic/_internal/_config.py:322: UserWarning: Valid config keys have changed in V2:\n",
      "* 'underscore_attrs_are_private' has been removed\n",
      "  warnings.warn(message, UserWarning)\n",
      "/usr/local/share/pynq-venv/lib/python3.8/site-packages/pydantic/_internal/_config.py:322: UserWarning: Valid config keys have changed in V2:\n",
      "* 'underscore_attrs_are_private' has been removed\n",
      "  warnings.warn(message, UserWarning)\n",
      "/usr/local/share/pynq-venv/lib/python3.8/site-packages/pynq/pl_server/xrt_device.py:59: UserWarning: xbutil failed to run - unable to determine XRT version\n",
      "  warnings.warn(\"xbutil failed to run - unable to determine XRT version\")\n"
     ]
    }
   ],
   "source": [
    "from finn_examples.driver import FINNExampleOverlay\n",
    "from qonnx.core.datatype import DataType\n",
    "import os\n",
    "import numpy as np\n",
    "import cv2\n",
    "import matplotlib.pyplot as plt\n",
    "%matplotlib inline\n"
   ]
  },
  {
   "cell_type": "code",
   "execution_count": 2,
   "id": "c430061d",
   "metadata": {},
   "outputs": [],
   "source": [
    "_cifar10_lfc_io_shape_dict = {\n",
    "    # FINN DataType for input and output tensors\n",
    "    \"idt\" : [DataType['UINT8']],\n",
    "    \"odt\" : [DataType['UINT8']],\n",
    "    # shapes for input and output tensors (NHWC layout)\n",
    "    \"ishape_normal\" : [(1, 784)],\n",
    "    \"oshape_normal\" : [(1, 1)],\n",
    "    # folded / packed shapes below depend on idt/odt and input/output\n",
    "    # PE/SIMD parallelization settings -- these are calculated by the\n",
    "    # FINN compiler.\n",
    "    \"ishape_folded\" : [(1, 784, 1)],\n",
    "    \"oshape_folded\" : [(1, 1, 1)],\n",
    "    \"ishape_packed\" : [(1, 784, 1)],\n",
    "    \"oshape_packed\" : [(1, 1, 1)],\n",
    "    \"input_dma_name\" : ['idma0'],\n",
    "    \"output_dma_name\" : ['odma0'],\n",
    "    \"number_of_external_weights\": 0,\n",
    "    \"num_inputs\" : 1,\n",
    "    \"num_outputs\" : 1,\n",
    "}"
   ]
  },
  {
   "cell_type": "code",
   "execution_count": 3,
   "id": "f42783c6",
   "metadata": {},
   "outputs": [
    {
     "data": {
      "application/javascript": [
       "\n",
       "try {\n",
       "require(['notebook/js/codecell'], function(codecell) {\n",
       "  codecell.CodeCell.options_default.highlight_modes[\n",
       "      'magic_text/x-csrc'] = {'reg':[/^%%microblaze/]};\n",
       "  Jupyter.notebook.events.one('kernel_ready.Kernel', function(){\n",
       "      Jupyter.notebook.get_cells().map(function(cell){\n",
       "          if (cell.cell_type == 'code'){ cell.auto_highlight(); } }) ;\n",
       "  });\n",
       "});\n",
       "} catch (e) {};\n"
      ]
     },
     "metadata": {},
     "output_type": "display_data"
    },
    {
     "data": {
      "application/javascript": [
       "\n",
       "try {\n",
       "require(['notebook/js/codecell'], function(codecell) {\n",
       "  codecell.CodeCell.options_default.highlight_modes[\n",
       "      'magic_text/x-csrc'] = {'reg':[/^%%pybind11/]};\n",
       "  Jupyter.notebook.events.one('kernel_ready.Kernel', function(){\n",
       "      Jupyter.notebook.get_cells().map(function(cell){\n",
       "          if (cell.cell_type == 'code'){ cell.auto_highlight(); } }) ;\n",
       "  });\n",
       "});\n",
       "} catch (e) {};\n"
      ]
     },
     "metadata": {},
     "output_type": "display_data"
    }
   ],
   "source": [
    "# filename= \"cnn_1w1a.bit\"\n",
    "filename=\"./models/lfc_1w1a.bit\"\n",
    "driver_mode= \"zynq-iodma\"\n",
    "accel= FINNExampleOverlay(filename, driver_mode, _cifar10_lfc_io_shape_dict)"
   ]
  },
  {
   "cell_type": "code",
   "execution_count": 4,
   "id": "f28927bd",
   "metadata": {},
   "outputs": [
    {
     "name": "stdout",
     "output_type": "stream",
     "text": [
      "Looking for Train Imgs\n",
      "Tar File found in data_dir. Not Downloading again\n",
      "Looking for Train Labels\n",
      "Tar File found in data_dir. Not Downloading again\n",
      "Looking for Test Imgs\n",
      "Tar File found in data_dir. Not Downloading again\n",
      "Looking for Test Labels\n",
      "Tar File found in data_dir. Not Downloading again\n"
     ]
    }
   ],
   "source": [
    "from dataset_loading import mnist\n",
    "trainx, trainy, testx, testy, valx, valy = mnist.load_mnist_data(\"/home/root/jupyter_notebooks/case2024/datasets\", download=True, one_hot=False)"
   ]
  },
  {
   "cell_type": "code",
   "execution_count": 5,
   "id": "ea07285d",
   "metadata": {},
   "outputs": [
    {
     "data": {
      "text/plain": [
       "(10000, 28, 28, 1)"
      ]
     },
     "execution_count": 5,
     "metadata": {},
     "output_type": "execute_result"
    }
   ],
   "source": [
    "testx.shape"
   ]
  },
  {
   "cell_type": "code",
   "execution_count": 6,
   "id": "5438113b",
   "metadata": {},
   "outputs": [],
   "source": [
    "test_single_x = testx[0].reshape(28, 28)\n",
    "test_single_y = testy[0]"
   ]
  },
  {
   "cell_type": "code",
   "execution_count": 7,
   "id": "238c21c3",
   "metadata": {},
   "outputs": [
    {
     "data": {
      "image/png": "[encoded data removed]",
      "text/plain": [
       "<Figure size 432x288 with 1 Axes>"
      ]
     },
     "metadata": {
      "needs_background": "light"
     },
     "output_type": "display_data"
    }
   ],
   "source": [
    "%matplotlib inline\n",
    "from matplotlib import pyplot as plt\n",
    "\n",
    "\n",
    "\n",
    "plt.imshow(test_single_x, cmap='gray')\n",
    "plt.show()"
   ]
  },
  {
   "cell_type": "code",
   "execution_count": 8,
   "id": "5cc17202",
   "metadata": {},
   "outputs": [
    {
     "name": "stdout",
     "output_type": "stream",
     "text": [
      "Expected class is 7\n"
     ]
    }
   ],
   "source": [
    "print(\"Expected class is %d\" % test_single_y)"
   ]
  },
  {
   "cell_type": "code",
   "execution_count": 9,
   "id": "e2b4e771",
   "metadata": {},
   "outputs": [
    {
     "name": "stdout",
     "output_type": "stream",
     "text": [
      "Input buffer shape is (1, 784) and datatype is uint8\n"
     ]
    }
   ],
   "source": [
    "accel_in = test_single_x.reshape(accel.ishape_normal())\n",
    "print(\"Input buffer shape is %s and datatype is %s\" % (str(accel_in.shape), str(accel_in.dtype)))"
   ]
  },
  {
   "cell_type": "code",
   "execution_count": 10,
   "id": "2ec3373d",
   "metadata": {},
   "outputs": [],
   "source": [
    "accel_out = accel.execute(accel_in)"
   ]
  },
  {
   "cell_type": "code",
   "execution_count": 11,
   "id": "7105659c",
   "metadata": {},
   "outputs": [
    {
     "data": {
      "text/plain": [
       "PynqBuffer([[7.]], dtype=float32)"
      ]
     },
     "execution_count": 11,
     "metadata": {},
     "output_type": "execute_result"
    }
   ],
   "source": [
    "accel_out"
   ]
  },
  {
   "cell_type": "code",
   "execution_count": 12,
   "id": "362dac97",
   "metadata": {},
   "outputs": [
    {
     "name": "stdout",
     "output_type": "stream",
     "text": [
      "Returned class is 7\n"
     ]
    }
   ],
   "source": [
    "print(\"Returned class is %d\" % accel_out)"
   ]
  },
  {
   "cell_type": "code",
   "execution_count": 13,
   "id": "b20e6c5b",
   "metadata": {},
   "outputs": [],
   "source": [
    "classes = ['zero', 'one' , 'two',\n",
    "    'three', 'four', 'five',\n",
    "    'six', 'seven', 'eight', 'nine']\n",
    "\n",
    "clases_np= np.array(classes)"
   ]
  },
  {
   "cell_type": "code",
   "execution_count": 14,
   "id": "6dbdabe3",
   "metadata": {},
   "outputs": [
    {
     "data": {
      "image/png": "[encoded data removed]",
      "text/plain": [
       "<Figure size 864x864 with 8 Axes>"
      ]
     },
     "metadata": {
      "needs_background": "light"
     },
     "output_type": "display_data"
    }
   ],
   "source": [
    "num_pics  = 8\n",
    "fix, ax = plt.subplots(1, num_pics, figsize=(12,12))\n",
    "plt.tight_layout()\n",
    "for i in range(num_pics):\n",
    "    \n",
    "    accel_in = testx[i].reshape(accel.ishape_normal())\n",
    "    accel_out = accel.execute(accel_in)\n",
    "    \n",
    "    prediction = accel_out\n",
    "\n",
    "    ax[i].set_title('Prediction: ' + classes[int(prediction)])\n",
    "    ax[i].axis('off')\n",
    "    ax[i].imshow(testx[i], cmap='gray')"
   ]
  },
  {
   "cell_type": "code",
   "execution_count": 15,
   "id": "b482fc0c",
   "metadata": {},
   "outputs": [
    {
     "data": {
      "text/plain": [
       "{'runtime[ms]': 0.4916191101074219,\n",
       " 'throughput[images/s]': 2034.0950533462658,\n",
       " 'DRAM_in_bandwidth[MB/s]': 1.5947305218234724,\n",
       " 'DRAM_out_bandwidth[MB/s]': 0.002034095053346266,\n",
       " 'fclk[mhz]': 99.999,\n",
       " 'batch_size': 1,\n",
       " 'fold_input[ms]': 0.034809112548828125,\n",
       " 'pack_input[ms]': 0.03457069396972656,\n",
       " 'copy_input_data_to_device[ms]': 0.20742416381835938,\n",
       " 'copy_output_data_from_device[ms]': 0.09322166442871094,\n",
       " 'unpack_output[ms]': 0.31065940856933594,\n",
       " 'unfold_output[ms]': 0.05698204040527344}"
      ]
     },
     "execution_count": 15,
     "metadata": {},
     "output_type": "execute_result"
    }
   ],
   "source": [
    "accel.throughput_test()"
   ]
  },
  {
   "cell_type": "code",
   "execution_count": 16,
   "id": "3a7efd65",
   "metadata": {},
   "outputs": [
    {
     "name": "stdout",
     "output_type": "stream",
     "text": [
      "Overall accuracy: 0.9868\n",
      "  Execution time: 9.7321s\n",
      "      Throughput: 1027.5240FPS\n"
     ]
    }
   ],
   "source": [
    "from time import time\n",
    "\n",
    "correct= 0\n",
    "total= len(testx)\n",
    "start = time()\n",
    "\n",
    "for i in range(total):\n",
    "    \n",
    "    accel_in = testx[i].reshape(accel.ishape_normal())\n",
    "    accel_out = accel.execute(accel_in)\n",
    "    \n",
    "    prediction = int(accel_out[0])\n",
    "    if prediction==testy[i]:\n",
    "        correct+=1\n",
    "\n",
    "stop = time()\n",
    "#correct = np.sum(clases_np[predictions]==test_label)\n",
    "execution_time = stop-start\n",
    "print(\"Overall accuracy: {}\".format(correct/total))\n",
    "print(\"  Execution time: {:.4f}s\".format(execution_time))\n",
    "print(\"      Throughput: {:.4f}FPS\".format(total/execution_time))  "
   ]
  },
  {
   "cell_type": "code",
   "execution_count": 17,
   "id": "c3c311ee",
   "metadata": {},
   "outputs": [
    {
     "name": "stdout",
     "output_type": "stream",
     "text": [
      "Ready to run validation, test images tensor has shape (10, 1000, 784)\n",
      "Accelerator buffer shapes are (1000, 784, 1) for input, (1000, 1, 1) for output\n"
     ]
    }
   ],
   "source": [
    "import numpy as np\n",
    "\n",
    "batch_size = 1000\n",
    "total = testx.shape[0]\n",
    "accel.batch_size = batch_size\n",
    "n_batches = int(total / batch_size)\n",
    "\n",
    "batch_imgs = testx.reshape(n_batches, batch_size, -1)\n",
    "batch_labels = testy.reshape(n_batches, batch_size)\n",
    "obuf_normal = np.empty_like(accel.obuf_packed_device)\n",
    "print(\"Ready to run validation, test images tensor has shape %s\" % str(batch_imgs.shape))\n",
    "print(\"Accelerator buffer shapes are %s for input, %s for output\" % (str(accel.ishape_packed()), str(accel.oshape_packed())))"
   ]
  },
  {
   "cell_type": "code",
   "execution_count": 18,
   "id": "f6abc2b4",
   "metadata": {},
   "outputs": [
    {
     "name": "stdout",
     "output_type": "stream",
     "text": [
      "batch 0 / 10 : total OK 987 NOK 13\n",
      "batch 1 / 10 : total OK 1959 NOK 41\n",
      "batch 2 / 10 : total OK 2940 NOK 60\n",
      "batch 3 / 10 : total OK 3924 NOK 76\n",
      "batch 4 / 10 : total OK 4907 NOK 93\n",
      "batch 5 / 10 : total OK 5897 NOK 103\n",
      "batch 6 / 10 : total OK 6888 NOK 112\n",
      "batch 7 / 10 : total OK 7886 NOK 114\n",
      "batch 8 / 10 : total OK 8882 NOK 118\n",
      "batch 9 / 10 : total OK 9868 NOK 132\n"
     ]
    }
   ],
   "source": [
    "ok = 0\n",
    "nok = 0\n",
    "for i in range(n_batches):\n",
    "    ibuf_normal = batch_imgs[i].reshape(accel.ishape_normal())\n",
    "    exp = batch_labels[i]\n",
    "    obuf_normal = accel.execute(ibuf_normal)\n",
    "    ret = np.bincount(obuf_normal.flatten() == exp.flatten())\n",
    "    nok += ret[0]\n",
    "    ok += ret[1]\n",
    "    print(\"batch %d / %d : total OK %d NOK %d\" % (i, n_batches, ok, nok))"
   ]
  },
  {
   "cell_type": "code",
   "execution_count": 19,
   "id": "59b8eabf",
   "metadata": {},
   "outputs": [
    {
     "name": "stdout",
     "output_type": "stream",
     "text": [
      "Final accuracy: 98.68%\n"
     ]
    }
   ],
   "source": [
    "acc = 100.0 * ok / (total)\n",
    "print(\"Final accuracy: {}%\".format(acc))"
   ]
  },
  {
   "cell_type": "code",
   "execution_count": 20,
   "id": "d23c975c",
   "metadata": {},
   "outputs": [],
   "source": [
    "def run_validation():\n",
    "    for i in range(n_batches):\n",
    "        ibuf_normal = batch_imgs[i].reshape(accel.ishape_normal())\n",
    "        exp = batch_labels[i]\n",
    "        accel.execute(ibuf_normal)"
   ]
  },
  {
   "cell_type": "code",
   "execution_count": 21,
   "id": "cbcb7672",
   "metadata": {},
   "outputs": [
    {
     "name": "stdout",
     "output_type": "stream",
     "text": [
      "863 ms ± 310 µs per loop (mean ± std. dev. of 7 runs, 1 loop each)\n"
     ]
    }
   ],
   "source": [
    "full_validation_time = %timeit -n 1 -o run_validation()"
   ]
  },
  {
   "cell_type": "code",
   "execution_count": 22,
   "id": "40800024",
   "metadata": {},
   "outputs": [
    {
     "name": "stdout",
     "output_type": "stream",
     "text": [
      "11589.661350 images per second including data movement\n"
     ]
    }
   ],
   "source": [
    "print(\"%f images per second including data movement\" % (total / float(full_validation_time.best)))"
   ]
  },
  {
   "cell_type": "code",
   "execution_count": 24,
   "id": "da500cd8-0d93-49d0-94ec-7eb5a27256ff",
   "metadata": {},
   "outputs": [],
   "source": [
    "run_validation()"
   ]
  },
  {
   "cell_type": "code",
   "execution_count": 25,
   "id": "aa2f674a",
   "metadata": {},
   "outputs": [],
   "source": [
    "del accel"
   ]
  },
  {
   "cell_type": "code",
   "execution_count": null,
   "id": "f452d0ce",
   "metadata": {},
   "outputs": [],
   "source": []
  }
 ],
 "metadata": {
  "kernelspec": {
   "display_name": "Python 3",
   "language": "python",
   "name": "python3"
  },
  "language_info": {
   "codemirror_mode": {
    "name": "ipython",
    "version": 3
   },
   "file_extension": ".py",
   "mimetype": "text/x-python",
   "name": "python",
   "nbconvert_exporter": "python",
   "pygments_lexer": "ipython3",
   "version": "3.8.10"
  }
 },
 "nbformat": 4,
 "nbformat_minor": 5
}
