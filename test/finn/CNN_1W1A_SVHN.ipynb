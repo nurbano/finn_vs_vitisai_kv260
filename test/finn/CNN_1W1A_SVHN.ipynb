{
 "cells": [
  {
   "cell_type": "code",
   "execution_count": 1,
   "id": "2044a7ef",
   "metadata": {},
   "outputs": [
    {
     "name": "stderr",
     "output_type": "stream",
     "text": [
      "/usr/local/share/pynq-venv/lib/python3.8/site-packages/pydantic/_internal/_config.py:322: UserWarning: Valid config keys have changed in V2:\n",
      "* 'underscore_attrs_are_private' has been removed\n",
      "  warnings.warn(message, UserWarning)\n",
      "/usr/local/share/pynq-venv/lib/python3.8/site-packages/pydantic/_internal/_config.py:322: UserWarning: Valid config keys have changed in V2:\n",
      "* 'underscore_attrs_are_private' has been removed\n",
      "  warnings.warn(message, UserWarning)\n",
      "/usr/local/share/pynq-venv/lib/python3.8/site-packages/pynq/pl_server/xrt_device.py:59: UserWarning: xbutil failed to run - unable to determine XRT version\n",
      "  warnings.warn(\"xbutil failed to run - unable to determine XRT version\")\n"
     ]
    }
   ],
   "source": [
    "from finn_examples.driver import FINNExampleOverlay\n",
    "from qonnx.core.datatype import DataType\n",
    "import os\n",
    "import numpy as np\n",
    "import cv2\n",
    "import matplotlib.pyplot as plt\n",
    "%matplotlib inline\n"
   ]
  },
  {
   "cell_type": "code",
   "execution_count": 2,
   "id": "c430061d",
   "metadata": {},
   "outputs": [],
   "source": [
    "_cifar10_cnv_io_shape_dict = {\n",
    "    \"idt\" : [DataType['UINT8']],\n",
    "    \"odt\" : [DataType['UINT8']],\n",
    "    \"ishape_normal\" : [(1, 32, 32, 3)],\n",
    "    \"oshape_normal\" : [(1, 1)],\n",
    "    \"ishape_folded\" : [(1, 32, 32, 3, 1)],\n",
    "    \"oshape_folded\" : [(1, 1, 1)],\n",
    "    \"ishape_packed\" : [(1, 32, 32, 3, 1)],\n",
    "    \"oshape_packed\" : [(1, 1, 1)],\n",
    "    \"input_dma_name\" : ['idma0'],\n",
    "    \"output_dma_name\" : ['odma0'],\n",
    "    \"number_of_external_weights\": 0,\n",
    "    \"num_inputs\" : 1,\n",
    "    \"num_outputs\" : 1,\n",
    "}\n"
   ]
  },
  {
   "cell_type": "code",
   "execution_count": 3,
   "id": "9a8a896f",
   "metadata": {
    "scrolled": true
   },
   "outputs": [
    {
     "name": "stdout",
     "output_type": "stream",
     "text": [
      "/home/root/jupyter_notebooks/case_2024/finn\n"
     ]
    }
   ],
   "source": [
    "!pwd"
   ]
  },
  {
   "cell_type": "code",
   "execution_count": 4,
   "id": "f42783c6",
   "metadata": {},
   "outputs": [
    {
     "data": {
      "application/javascript": [
       "\n",
       "try {\n",
       "require(['notebook/js/codecell'], function(codecell) {\n",
       "  codecell.CodeCell.options_default.highlight_modes[\n",
       "      'magic_text/x-csrc'] = {'reg':[/^%%microblaze/]};\n",
       "  Jupyter.notebook.events.one('kernel_ready.Kernel', function(){\n",
       "      Jupyter.notebook.get_cells().map(function(cell){\n",
       "          if (cell.cell_type == 'code'){ cell.auto_highlight(); } }) ;\n",
       "  });\n",
       "});\n",
       "} catch (e) {};\n"
      ]
     },
     "metadata": {},
     "output_type": "display_data"
    },
    {
     "data": {
      "application/javascript": [
       "\n",
       "try {\n",
       "require(['notebook/js/codecell'], function(codecell) {\n",
       "  codecell.CodeCell.options_default.highlight_modes[\n",
       "      'magic_text/x-csrc'] = {'reg':[/^%%pybind11/]};\n",
       "  Jupyter.notebook.events.one('kernel_ready.Kernel', function(){\n",
       "      Jupyter.notebook.get_cells().map(function(cell){\n",
       "          if (cell.cell_type == 'code'){ cell.auto_highlight(); } }) ;\n",
       "  });\n",
       "});\n",
       "} catch (e) {};\n"
      ]
     },
     "metadata": {},
     "output_type": "display_data"
    }
   ],
   "source": [
    "# filename= \"cnn_1w1a.bit\"\n",
    "filename=\"./models/cnn_1w1a_v3.bit\"\n",
    "driver_mode= \"zynq-iodma\"\n",
    "accel= FINNExampleOverlay(filename, driver_mode, _cifar10_cnv_io_shape_dict)"
   ]
  },
  {
   "cell_type": "code",
   "execution_count": 5,
   "id": "f28927bd",
   "metadata": {},
   "outputs": [],
   "source": [
    "# from dataset_loading import cifar\n",
    "# trainx, trainy, testx, testy, valx, valy = cifar.load_cifar_data(\"/tmp\", download=True, one_hot=False)"
   ]
  },
  {
   "cell_type": "code",
   "execution_count": 6,
   "id": "ea07285d",
   "metadata": {},
   "outputs": [],
   "source": [
    "# test_single_x = testx[0]\n",
    "# test_single_y = testy[0]\n",
    "# cifar10_class_names = ['Airplane', 'Automobile', 'Bird', 'Cat', 'Deer', 'Dog', 'Frog', 'Horse', 'Ship', 'Truck']\n"
   ]
  },
  {
   "cell_type": "code",
   "execution_count": 7,
   "id": "238c21c3",
   "metadata": {},
   "outputs": [],
   "source": [
    "%matplotlib inline\n",
    "from matplotlib import pyplot as plt\n",
    "\n",
    "# plt.imshow(test_single_x)\n",
    "# plt.show()"
   ]
  },
  {
   "cell_type": "code",
   "execution_count": 8,
   "id": "fea9bb7d",
   "metadata": {},
   "outputs": [],
   "source": [
    "# test_single_x.shape"
   ]
  },
  {
   "cell_type": "code",
   "execution_count": 9,
   "id": "5cc17202",
   "metadata": {},
   "outputs": [],
   "source": [
    "# print(\"Expected class is %d (%s)\" % (test_single_y, cifar10_class_names[test_single_y]))"
   ]
  },
  {
   "cell_type": "code",
   "execution_count": 10,
   "id": "e2b4e771",
   "metadata": {},
   "outputs": [],
   "source": [
    "# accel_in = test_single_x.reshape(accel.ishape_normal())\n",
    "# print(\"Input buffer shape is %s and datatype is %s\" % (str(accel_in.shape), str(accel_in.dtype)))"
   ]
  },
  {
   "cell_type": "code",
   "execution_count": 11,
   "id": "2ec3373d",
   "metadata": {},
   "outputs": [],
   "source": [
    "# accel_out = accel.execute(accel_in)"
   ]
  },
  {
   "cell_type": "code",
   "execution_count": 12,
   "id": "7105659c",
   "metadata": {},
   "outputs": [],
   "source": [
    "# accel_out"
   ]
  },
  {
   "cell_type": "code",
   "execution_count": null,
   "id": "611daff5",
   "metadata": {},
   "outputs": [],
   "source": []
  },
  {
   "cell_type": "code",
   "execution_count": 13,
   "id": "362dac97",
   "metadata": {},
   "outputs": [],
   "source": [
    "# print(\"Returned class is %d\" % accel_out)"
   ]
  },
  {
   "cell_type": "code",
   "execution_count": 14,
   "id": "3073fc30",
   "metadata": {},
   "outputs": [],
   "source": [
    "images_path= \"/home/root/jupyter_notebooks/case_2024/datasets/svhn_images\"\n",
    "files= os.listdir(images_path)"
   ]
  },
  {
   "cell_type": "code",
   "execution_count": 15,
   "id": "05203491",
   "metadata": {},
   "outputs": [],
   "source": [
    "def preprocess_fn(image_path):\n",
    "    mean= [0.4376821, 0.4437697, 0.47286442]\n",
    "    std= [0.19803012, 0.20101562, 0.19703614]\n",
    "    image = cv2.imread(image_path)\n",
    "    image= cv2.cvtColor(image, cv2.COLOR_BGR2RGB)\n",
    "    \n",
    "#     image = image.reshape(32,32,3)\n",
    "#     image= np.expand_dims(image, axis=0)\n",
    "#     image = image * (1/255.0)\n",
    "#     image = image.reshape(accel.ishape_normal())*255\n",
    "\n",
    "#     image= (image-mean)/std\n",
    "    #image= image* fix_scale\n",
    "#     image= image.astype(np.intc)\n",
    "    return image"
   ]
  },
  {
   "cell_type": "code",
   "execution_count": 16,
   "id": "d337674e",
   "metadata": {},
   "outputs": [
    {
     "data": {
      "text/plain": [
       "'seven_6773.png'"
      ]
     },
     "execution_count": 16,
     "metadata": {},
     "output_type": "execute_result"
    },
    {
     "data": {
      "image/png": "[encoded data removed]",
      "text/plain": [
       "<Figure size 432x288 with 1 Axes>"
      ]
     },
     "metadata": {
      "needs_background": "light"
     },
     "output_type": "display_data"
    }
   ],
   "source": [
    "img= preprocess_fn(images_path+\"/\"+files[500])\n",
    "plt.imshow(img)\n",
    "\n",
    "files[0]"
   ]
  },
  {
   "cell_type": "code",
   "execution_count": 17,
   "id": "8c5215ea",
   "metadata": {},
   "outputs": [],
   "source": [
    "test_data= np.empty((len(files),32,32,3), dtype= np.uint8)\n",
    "#test_data.shape\n",
    "i=0\n",
    "for file in files:\n",
    "    \n",
    "    image_path= os.path.join(images_path, file)\n",
    "    img_pre= preprocess_fn(image_path)\n",
    "    test_data[i,...]= img_pre\n",
    "    i+=1"
   ]
  },
  {
   "cell_type": "code",
   "execution_count": 18,
   "id": "d2755446",
   "metadata": {},
   "outputs": [
    {
     "data": {
      "text/plain": [
       "(19, 209)"
      ]
     },
     "execution_count": 18,
     "metadata": {},
     "output_type": "execute_result"
    }
   ],
   "source": [
    "test_data[0].min(), test_data[0].max()"
   ]
  },
  {
   "cell_type": "code",
   "execution_count": 19,
   "id": "1e1ee4a9",
   "metadata": {},
   "outputs": [
    {
     "data": {
      "text/plain": [
       "(32, 32, 3)"
      ]
     },
     "execution_count": 19,
     "metadata": {},
     "output_type": "execute_result"
    }
   ],
   "source": [
    "loader= iter(test_data)\n",
    "\n",
    "next(loader).shape"
   ]
  },
  {
   "cell_type": "code",
   "execution_count": 20,
   "id": "7b948fd0",
   "metadata": {},
   "outputs": [
    {
     "data": {
      "text/plain": [
       "(32, 32, 3)"
      ]
     },
     "execution_count": 20,
     "metadata": {},
     "output_type": "execute_result"
    }
   ],
   "source": [
    "test_data[0].shape"
   ]
  },
  {
   "cell_type": "code",
   "execution_count": 21,
   "id": "6049bc0c",
   "metadata": {},
   "outputs": [
    {
     "data": {
      "text/plain": [
       "<matplotlib.image.AxesImage at 0xffff668c3040>"
      ]
     },
     "execution_count": 21,
     "metadata": {},
     "output_type": "execute_result"
    },
    {
     "data": {
      "image/png": "[encoded data removed]",
      "text/plain": [
       "<Figure size 432x288 with 1 Axes>"
      ]
     },
     "metadata": {
      "needs_background": "light"
     },
     "output_type": "display_data"
    }
   ],
   "source": [
    "plt.imshow(test_data[200])"
   ]
  },
  {
   "cell_type": "code",
   "execution_count": 22,
   "id": "b5a4710e",
   "metadata": {},
   "outputs": [
    {
     "data": {
      "text/plain": [
       "4"
      ]
     },
     "execution_count": 22,
     "metadata": {},
     "output_type": "execute_result"
    }
   ],
   "source": [
    "classes = ['zero', 'one' , 'two',\n",
    "    'trhee', 'four', 'five',\n",
    "    'six', 'seven', 'eight', 'nine']\n",
    "\n",
    "clases_np= np.array(classes)\n",
    "\n",
    "classes_dict= {\n",
    "    'zero': 0,\n",
    "    'one': 1,\n",
    "    'two': 2,\n",
    "    'three':3,\n",
    "    'four':4,\n",
    "    'five':5,\n",
    "    'six': 6,\n",
    "    'seven':7,\n",
    "    'eight':8,\n",
    "    'nine':9\n",
    "}\n",
    "\n",
    "classes_dict['four']"
   ]
  },
  {
   "cell_type": "code",
   "execution_count": 23,
   "id": "f4e6583f",
   "metadata": {},
   "outputs": [],
   "source": [
    "str_labels= []\n",
    "np_labels= np.empty(len(files))\n",
    "i=0\n",
    "for file in files:\n",
    "    str_labels.append(file.split(\"_\")[0])\n",
    "    np_labels[i]= classes_dict[file.split(\"_\")[0]]\n",
    "    i+=1"
   ]
  },
  {
   "cell_type": "code",
   "execution_count": 24,
   "id": "b20e6c5b",
   "metadata": {},
   "outputs": [
    {
     "data": {
      "text/plain": [
       "array([0., 1., 2., 3., 4., 5., 6., 7., 8., 9.])"
      ]
     },
     "execution_count": 24,
     "metadata": {},
     "output_type": "execute_result"
    }
   ],
   "source": [
    "np.unique(np_labels)"
   ]
  },
  {
   "cell_type": "code",
   "execution_count": 25,
   "id": "6dbdabe3",
   "metadata": {},
   "outputs": [
    {
     "data": {
      "image/png": "[encoded data removed]",
      "text/plain": [
       "<Figure size 864x864 with 8 Axes>"
      ]
     },
     "metadata": {
      "needs_background": "light"
     },
     "output_type": "display_data"
    }
   ],
   "source": [
    "num_pics  = 8\n",
    "fix, ax = plt.subplots(1, num_pics, figsize=(12,12))\n",
    "plt.tight_layout()\n",
    "for i in range(num_pics):\n",
    "    \n",
    "    accel_in = test_data[i].reshape(accel.ishape_normal())\n",
    "    #image[0,...] = test_data[i]\n",
    "    #job_id = dpu.execute_async(input_data, output_data)\n",
    "    #dpu.wait(job_id)\n",
    "    #temp = [j.reshape(1, outputSize) for j in output_data]\n",
    "    accel_out = accel.execute(accel_in)\n",
    "    #softmax = calculate_softmax(temp[0][0])\n",
    "    prediction = accel_out\n",
    "\n",
    "    ax[i].set_title('Prediction: ' + classes[int(prediction)])\n",
    "    ax[i].axis('off')\n",
    "    ax[i].imshow(test_data[i])"
   ]
  },
  {
   "cell_type": "code",
   "execution_count": 26,
   "id": "dee0df59",
   "metadata": {},
   "outputs": [
    {
     "data": {
      "text/plain": [
       "170"
      ]
     },
     "execution_count": 26,
     "metadata": {},
     "output_type": "execute_result"
    }
   ],
   "source": [
    "test_data[1].max()"
   ]
  },
  {
   "cell_type": "code",
   "execution_count": 27,
   "id": "b482fc0c",
   "metadata": {},
   "outputs": [
    {
     "data": {
      "text/plain": [
       "{'runtime[ms]': 0.5404949188232422,\n",
       " 'throughput[images/s]': 1850.1561535068372,\n",
       " 'DRAM_in_bandwidth[MB/s]': 5.683679703573004,\n",
       " 'DRAM_out_bandwidth[MB/s]': 0.0018501561535068372,\n",
       " 'fclk[mhz]': 99.999,\n",
       " 'batch_size': 1,\n",
       " 'fold_input[ms]': 0.046253204345703125,\n",
       " 'pack_input[ms]': 0.038623809814453125,\n",
       " 'copy_input_data_to_device[ms]': 0.6895065307617188,\n",
       " 'copy_output_data_from_device[ms]': 0.18143653869628906,\n",
       " 'unpack_output[ms]': 0.47469139099121094,\n",
       " 'unfold_output[ms]': 0.06341934204101562}"
      ]
     },
     "execution_count": 27,
     "metadata": {},
     "output_type": "execute_result"
    }
   ],
   "source": [
    "accel.throughput_test()"
   ]
  },
  {
   "cell_type": "code",
   "execution_count": 28,
   "id": "684f65d6",
   "metadata": {},
   "outputs": [
    {
     "data": {
      "text/plain": [
       "(1, 32, 32, 3)"
      ]
     },
     "execution_count": 28,
     "metadata": {},
     "output_type": "execute_result"
    }
   ],
   "source": [
    "accel.ishape_normal()"
   ]
  },
  {
   "cell_type": "code",
   "execution_count": 29,
   "id": "132d10b7",
   "metadata": {},
   "outputs": [
    {
     "name": "stdout",
     "output_type": "stream",
     "text": [
      "7\n"
     ]
    }
   ],
   "source": [
    "accel_in = test_data[0].reshape(accel.ishape_normal())\n",
    "\n",
    "accel_out = accel.execute(accel_in)\n",
    "print(int(accel_out[0]))"
   ]
  },
  {
   "cell_type": "code",
   "execution_count": 30,
   "id": "01e8aa58",
   "metadata": {},
   "outputs": [
    {
     "data": {
      "text/plain": [
       "(32, 32, 3)"
      ]
     },
     "execution_count": 30,
     "metadata": {},
     "output_type": "execute_result"
    }
   ],
   "source": [
    "test_data[0].shape"
   ]
  },
  {
   "cell_type": "code",
   "execution_count": 31,
   "id": "cadd0714",
   "metadata": {},
   "outputs": [
    {
     "data": {
      "text/plain": [
       "(25909, 32, 32, 3)"
      ]
     },
     "execution_count": 31,
     "metadata": {},
     "output_type": "execute_result"
    }
   ],
   "source": [
    "test_data.shape"
   ]
  },
  {
   "cell_type": "code",
   "execution_count": 32,
   "id": "3a7efd65",
   "metadata": {},
   "outputs": [
    {
     "name": "stdout",
     "output_type": "stream",
     "text": [
      "Overall accuracy: 0.9007294762437763\n",
      "  Execution time: 26.2595s\n",
      "      Throughput: 986.6528FPS\n"
     ]
    }
   ],
   "source": [
    "from time import time\n",
    "\n",
    "correct= 0\n",
    "total= 25909\n",
    "start = time()\n",
    "\n",
    "for i in range(total):\n",
    "    \n",
    "    accel_in = test_data[i].reshape(accel.ishape_normal())\n",
    "    accel_out = accel.execute(accel_in)\n",
    "    \n",
    "    prediction = int(accel_out[0])\n",
    "    if prediction==np_labels[i]:\n",
    "        correct+=1\n",
    "\n",
    "stop = time()\n",
    "#correct = np.sum(clases_np[predictions]==test_label)\n",
    "execution_time = stop-start\n",
    "print(\"Overall accuracy: {}\".format(correct/total))\n",
    "print(\"  Execution time: {:.4f}s\".format(execution_time))\n",
    "print(\"      Throughput: {:.4f}FPS\".format(total/execution_time))    "
   ]
  },
  {
   "cell_type": "code",
   "execution_count": 33,
   "id": "d6bf9d4a",
   "metadata": {},
   "outputs": [
    {
     "data": {
      "text/plain": [
       "array([7., 1., 7., ..., 8., 3., 5.])"
      ]
     },
     "execution_count": 33,
     "metadata": {},
     "output_type": "execute_result"
    }
   ],
   "source": [
    "np_labels"
   ]
  },
  {
   "cell_type": "code",
   "execution_count": 34,
   "id": "54509d2d",
   "metadata": {},
   "outputs": [],
   "source": [
    "testx= test_data[:25000]\n",
    "testy= np_labels[:25000]"
   ]
  },
  {
   "cell_type": "code",
   "execution_count": 35,
   "id": "08adeaef",
   "metadata": {},
   "outputs": [
    {
     "data": {
      "text/plain": [
       "((25000, 32, 32, 3), (25000,))"
      ]
     },
     "execution_count": 35,
     "metadata": {},
     "output_type": "execute_result"
    }
   ],
   "source": [
    "testx.shape, testy.shape"
   ]
  },
  {
   "cell_type": "code",
   "execution_count": 36,
   "id": "65dcdb54",
   "metadata": {},
   "outputs": [
    {
     "name": "stdout",
     "output_type": "stream",
     "text": [
      "Ready to run validation, test images tensor has shape (25, 1000, 3072)\n",
      "Accelerator buffer shapes are (1000, 32, 32, 3, 1) for input, (1000, 1, 1) for output\n"
     ]
    }
   ],
   "source": [
    "\n",
    "batch_size = 1000\n",
    "total = testx.shape[0]\n",
    "accel.batch_size = batch_size\n",
    "n_batches = int(total / batch_size)\n",
    "\n",
    "batch_imgs = testx.reshape(n_batches, batch_size, -1)\n",
    "batch_labels = testy.reshape(n_batches, batch_size)\n",
    "obuf_normal = np.empty_like(accel.obuf_packed_device)\n",
    "print(\"Ready to run validation, test images tensor has shape %s\" % str(batch_imgs.shape))\n",
    "print(\"Accelerator buffer shapes are %s for input, %s for output\" % (str(accel.ishape_packed()), str(accel.oshape_packed())))"
   ]
  },
  {
   "cell_type": "code",
   "execution_count": 37,
   "id": "7e373896",
   "metadata": {},
   "outputs": [
    {
     "name": "stdout",
     "output_type": "stream",
     "text": [
      "batch 0 / 25 : total OK 898 NOK 102\n",
      "batch 1 / 25 : total OK 1797 NOK 203\n",
      "batch 2 / 25 : total OK 2707 NOK 293\n",
      "batch 3 / 25 : total OK 3615 NOK 385\n",
      "batch 4 / 25 : total OK 4508 NOK 492\n",
      "batch 5 / 25 : total OK 5412 NOK 588\n",
      "batch 6 / 25 : total OK 6310 NOK 690\n",
      "batch 7 / 25 : total OK 7217 NOK 783\n",
      "batch 8 / 25 : total OK 8120 NOK 880\n",
      "batch 9 / 25 : total OK 9031 NOK 969\n",
      "batch 10 / 25 : total OK 9915 NOK 1085\n",
      "batch 11 / 25 : total OK 10840 NOK 1160\n",
      "batch 12 / 25 : total OK 11734 NOK 1266\n",
      "batch 13 / 25 : total OK 12626 NOK 1374\n",
      "batch 14 / 25 : total OK 13531 NOK 1469\n",
      "batch 15 / 25 : total OK 14441 NOK 1559\n",
      "batch 16 / 25 : total OK 15325 NOK 1675\n",
      "batch 17 / 25 : total OK 16220 NOK 1780\n",
      "batch 18 / 25 : total OK 17116 NOK 1884\n",
      "batch 19 / 25 : total OK 18005 NOK 1995\n",
      "batch 20 / 25 : total OK 18909 NOK 2091\n",
      "batch 21 / 25 : total OK 19810 NOK 2190\n",
      "batch 22 / 25 : total OK 20725 NOK 2275\n",
      "batch 23 / 25 : total OK 21640 NOK 2360\n",
      "batch 24 / 25 : total OK 22530 NOK 2470\n"
     ]
    }
   ],
   "source": [
    "ok = 0\n",
    "nok = 0\n",
    "for i in range(n_batches):\n",
    "    ibuf_normal = batch_imgs[i].reshape(accel.ishape_normal())\n",
    "    exp = batch_labels[i]\n",
    "    obuf_normal = accel.execute(ibuf_normal)\n",
    "    ret = np.bincount(obuf_normal.flatten() == exp.flatten())\n",
    "    nok += ret[0]\n",
    "    ok += ret[1]\n",
    "    print(\"batch %d / %d : total OK %d NOK %d\" % (i, n_batches, ok, nok))"
   ]
  },
  {
   "cell_type": "code",
   "execution_count": 38,
   "id": "3a20fb71",
   "metadata": {},
   "outputs": [
    {
     "name": "stdout",
     "output_type": "stream",
     "text": [
      "Final accuracy: 90.12%\n"
     ]
    }
   ],
   "source": [
    "acc = 100.0 * ok / (total)\n",
    "print(\"Final accuracy: {}%\".format(acc))"
   ]
  },
  {
   "cell_type": "code",
   "execution_count": 39,
   "id": "0cec7ae0",
   "metadata": {},
   "outputs": [],
   "source": [
    "def run_validation():\n",
    "    for i in range(n_batches):\n",
    "        ibuf_normal = batch_imgs[i].reshape(accel.ishape_normal())\n",
    "        exp = batch_labels[i]\n",
    "        accel.execute(ibuf_normal)"
   ]
  },
  {
   "cell_type": "code",
   "execution_count": 46,
   "id": "717016e5",
   "metadata": {},
   "outputs": [
    {
     "name": "stdout",
     "output_type": "stream",
     "text": [
      "4.13 s ± 559 µs per loop (mean ± std. dev. of 7 runs, 1 loop each)\n"
     ]
    }
   ],
   "source": [
    "full_validation_time = %timeit -n 1 -o run_validation()"
   ]
  },
  {
   "cell_type": "code",
   "execution_count": 44,
   "id": "aabd75da",
   "metadata": {},
   "outputs": [
    {
     "name": "stdout",
     "output_type": "stream",
     "text": [
      "6062.018558 images per second including data movement\n"
     ]
    }
   ],
   "source": [
    "print(\"%f images per second including data movement\" % (total / float(full_validation_time.best)))"
   ]
  },
  {
   "cell_type": "code",
   "execution_count": 42,
   "id": "92a5468e",
   "metadata": {},
   "outputs": [],
   "source": [
    "# del accel"
   ]
  },
  {
   "cell_type": "code",
   "execution_count": 57,
   "id": "05a9c781-7f24-42d2-a34d-4f8c21766598",
   "metadata": {},
   "outputs": [],
   "source": [
    "run_validation()"
   ]
  },
  {
   "cell_type": "code",
   "execution_count": 54,
   "id": "e28dd94f",
   "metadata": {},
   "outputs": [
    {
     "data": {
      "text/plain": [
       "[4.125082085000031,\n",
       " 4.125304455000332,\n",
       " 4.125508404999891,\n",
       " 4.124517795000429,\n",
       " 4.12535784100055,\n",
       " 4.125026757999876,\n",
       " 4.126486838999881]"
      ]
     },
     "execution_count": 54,
     "metadata": {},
     "output_type": "execute_result"
    }
   ],
   "source": [
    "full_validation_time.all_runs"
   ]
  },
  {
   "cell_type": "code",
   "execution_count": 55,
   "id": "07ab86ce-1588-472e-b417-d7242f8ce4f4",
   "metadata": {},
   "outputs": [
    {
     "data": {
      "text/plain": [
       "{'runtime[ms]': 162.43720054626465,\n",
       " 'throughput[images/s]': 6156.225277443047,\n",
       " 'DRAM_in_bandwidth[MB/s]': 18.911924052305043,\n",
       " 'DRAM_out_bandwidth[MB/s]': 0.006156225277443047,\n",
       " 'fclk[mhz]': 99.999,\n",
       " 'batch_size': 1000,\n",
       " 'fold_input[ms]': 0.09465217590332031,\n",
       " 'pack_input[ms]': 0.06437301635742188,\n",
       " 'copy_input_data_to_device[ms]': 2.0322799682617188,\n",
       " 'copy_output_data_from_device[ms]': 0.12230873107910156,\n",
       " 'unpack_output[ms]': 0.4601478576660156,\n",
       " 'unfold_output[ms]': 0.05888938903808594}"
      ]
     },
     "execution_count": 55,
     "metadata": {},
     "output_type": "execute_result"
    }
   ],
   "source": [
    "accel.throughput_test()"
   ]
  },
  {
   "cell_type": "code",
   "execution_count": 58,
   "id": "e873e66c-99f8-4d5d-b232-a0c2a5504118",
   "metadata": {},
   "outputs": [],
   "source": [
    "del accel"
   ]
  },
  {
   "cell_type": "code",
   "execution_count": null,
   "id": "0e13ed19-599f-4be4-a4da-c7c062b5cc40",
   "metadata": {},
   "outputs": [],
   "source": []
  }
 ],
 "metadata": {
  "kernelspec": {
   "display_name": "Python 3",
   "language": "python",
   "name": "python3"
  },
  "language_info": {
   "codemirror_mode": {
    "name": "ipython",
    "version": 3
   },
   "file_extension": ".py",
   "mimetype": "text/x-python",
   "name": "python",
   "nbconvert_exporter": "python",
   "pygments_lexer": "ipython3",
   "version": "3.8.10"
  }
 },
 "nbformat": 4,
 "nbformat_minor": 5
}
