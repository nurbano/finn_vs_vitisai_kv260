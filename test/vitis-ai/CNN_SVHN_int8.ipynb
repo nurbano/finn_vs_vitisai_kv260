{
 "cells": [
  {
   "cell_type": "code",
   "execution_count": 1,
   "id": "837e1b53-cef8-4200-a190-65f5dc21a89f",
   "metadata": {},
   "outputs": [
    {
     "name": "stderr",
     "output_type": "stream",
     "text": [
      "/usr/local/share/pynq-venv/lib/python3.8/site-packages/pydantic/_internal/_config.py:322: UserWarning: Valid config keys have changed in V2:\n",
      "* 'underscore_attrs_are_private' has been removed\n",
      "  warnings.warn(message, UserWarning)\n",
      "/usr/local/share/pynq-venv/lib/python3.8/site-packages/pydantic/_internal/_config.py:322: UserWarning: Valid config keys have changed in V2:\n",
      "* 'underscore_attrs_are_private' has been removed\n",
      "  warnings.warn(message, UserWarning)\n",
      "/usr/local/share/pynq-venv/lib/python3.8/site-packages/pynq/pl_server/xrt_device.py:59: UserWarning: xbutil failed to run - unable to determine XRT version\n",
      "  warnings.warn(\"xbutil failed to run - unable to determine XRT version\")\n"
     ]
    },
    {
     "data": {
      "application/javascript": [
       "\n",
       "try {\n",
       "require(['notebook/js/codecell'], function(codecell) {\n",
       "  codecell.CodeCell.options_default.highlight_modes[\n",
       "      'magic_text/x-csrc'] = {'reg':[/^%%microblaze/]};\n",
       "  Jupyter.notebook.events.one('kernel_ready.Kernel', function(){\n",
       "      Jupyter.notebook.get_cells().map(function(cell){\n",
       "          if (cell.cell_type == 'code'){ cell.auto_highlight(); } }) ;\n",
       "  });\n",
       "});\n",
       "} catch (e) {};\n"
      ]
     },
     "metadata": {},
     "output_type": "display_data"
    },
    {
     "data": {
      "application/javascript": [
       "\n",
       "try {\n",
       "require(['notebook/js/codecell'], function(codecell) {\n",
       "  codecell.CodeCell.options_default.highlight_modes[\n",
       "      'magic_text/x-csrc'] = {'reg':[/^%%pybind11/]};\n",
       "  Jupyter.notebook.events.one('kernel_ready.Kernel', function(){\n",
       "      Jupyter.notebook.get_cells().map(function(cell){\n",
       "          if (cell.cell_type == 'code'){ cell.auto_highlight(); } }) ;\n",
       "  });\n",
       "});\n",
       "} catch (e) {};\n"
      ]
     },
     "metadata": {},
     "output_type": "display_data"
    }
   ],
   "source": [
    "from pynq_dpu import DpuOverlay\n",
    "overlay = DpuOverlay(\"dpu.bit\")"
   ]
  },
  {
   "cell_type": "code",
   "execution_count": 2,
   "id": "fcac3f97-281b-48fe-8a12-b7c882302d4b",
   "metadata": {},
   "outputs": [],
   "source": [
    "overlay.load_model(\"CNN_SVHN_KV260.xmodel\")"
   ]
  },
  {
   "cell_type": "code",
   "execution_count": 3,
   "id": "27c86b60-6f43-4e14-831c-bb015347f4e5",
   "metadata": {},
   "outputs": [],
   "source": [
    "from time import time\n",
    "import numpy as np\n",
    "import matplotlib.pyplot as plt\n",
    "import os\n",
    "import cv2\n",
    "%matplotlib inline\n",
    "import xir"
   ]
  },
  {
   "cell_type": "code",
   "execution_count": 4,
   "id": "c5dfefbe-de38-4f40-951e-8926d57cd8df",
   "metadata": {},
   "outputs": [],
   "source": [
    "# graph= xir.Graph.deserialize(\"nuevo.xmodel\")\n",
    "# print(graph)\n",
    "\n"
   ]
  },
  {
   "cell_type": "code",
   "execution_count": 5,
   "id": "96c39a09-ced1-4d96-8443-9a9f963c2f35",
   "metadata": {},
   "outputs": [],
   "source": [
    "images_path= \"/home/root/jupyter_notebooks/case_2024/datasets/svhn_images\"\n",
    "files= os.listdir(images_path)"
   ]
  },
  {
   "cell_type": "code",
   "execution_count": 6,
   "id": "1f02a406-ba9e-43b9-8b43-6cfeed8ad6de",
   "metadata": {},
   "outputs": [],
   "source": [
    "def preprocess_fn(image_path, fix_scale):\n",
    "    mean= [0.4376821, 0.4437697, 0.47286442]\n",
    "    std= [0.19803012, 0.20101562, 0.19703614]\n",
    "    image = cv2.imread(image_path)\n",
    "    image= cv2.cvtColor(image, cv2.COLOR_BGR2RGB)\n",
    "    \n",
    "    image = image.reshape(32,32,3)\n",
    "    image = image * (1/255.0)\n",
    "    image= (image-mean)/std\n",
    "    #image= image* fix_scale\n",
    "    #image= image.astype(np.int8)\n",
    "    return image"
   ]
  },
  {
   "cell_type": "code",
   "execution_count": 7,
   "id": "b413395e-93c9-464e-9f7d-9496c19948d7",
   "metadata": {},
   "outputs": [],
   "source": [
    "def desnorm(image):\n",
    "    mean= [0.4376821, 0.4437697, 0.47286442]\n",
    "    std= [0.19803012, 0.20101562, 0.19703614]\n",
    "    image= image*std+mean\n",
    "    return image"
   ]
  },
  {
   "cell_type": "code",
   "execution_count": 8,
   "id": "0a6d6eaa-38d3-473d-ad00-ebdf99e230dc",
   "metadata": {},
   "outputs": [],
   "source": [
    "labels= []\n",
    "for file in files:\n",
    "    labels.append(file.split(\"_\")[0])"
   ]
  },
  {
   "cell_type": "code",
   "execution_count": 9,
   "id": "887f77c9-3da3-48c2-a944-38220f5c686a",
   "metadata": {},
   "outputs": [],
   "source": [
    "# index= 0\n",
    "# image_path= os.path.join(images_path, files[index])\n",
    "# image = cv2.imread(image_path)\n",
    "\n",
    "# mean= [0.485, 0.456, 0.406]\n",
    "# std= [0.229, 0.224, 0.225]\n",
    "# image= cv2.cvtColor(image, cv2.COLOR_BGR2RGB)\n",
    "\n",
    "# #image = image.reshape(32,32,3)\n",
    "# image = image * (1/255.0)\n",
    "# image= (image-mean)/std\n",
    "# image.max(), image.min()\n",
    "# #plt.imshow(image)\n",
    "# #print(labels[index])"
   ]
  },
  {
   "cell_type": "code",
   "execution_count": 10,
   "id": "9d6e286d-4aba-4fe9-ae6e-a105a281f390",
   "metadata": {},
   "outputs": [
    {
     "data": {
      "text/plain": [
       "(32, 32, 3)"
      ]
     },
     "execution_count": 10,
     "metadata": {},
     "output_type": "execute_result"
    }
   ],
   "source": [
    "index= 0\n",
    "image_path= os.path.join(images_path, files[index])\n",
    "#print(image_path)\n",
    "img_pre= preprocess_fn(image_path, 64)\n",
    "img_pre.shape"
   ]
  },
  {
   "cell_type": "code",
   "execution_count": 11,
   "id": "1c6fae85-5f9c-4292-b114-b1e168afd853",
   "metadata": {},
   "outputs": [],
   "source": [
    "test_data= np.empty((len(files),32,32,3))\n",
    "#test_data.shape\n",
    "i=0\n",
    "for file in files:\n",
    "    \n",
    "    image_path= os.path.join(images_path, file)\n",
    "    img_pre= preprocess_fn(image_path, 64)\n",
    "    test_data[i,...]= img_pre\n",
    "    i+=1"
   ]
  },
  {
   "cell_type": "code",
   "execution_count": 12,
   "id": "5d4a8300-d20f-40c0-bffe-a24072729e76",
   "metadata": {},
   "outputs": [
    {
     "data": {
      "text/plain": [
       "(32, 32, 3)"
      ]
     },
     "execution_count": 12,
     "metadata": {},
     "output_type": "execute_result"
    }
   ],
   "source": [
    "test_data[0].shape"
   ]
  },
  {
   "cell_type": "code",
   "execution_count": 13,
   "id": "896b691c-5133-432e-8244-789c91bae8f8",
   "metadata": {},
   "outputs": [
    {
     "data": {
      "text/plain": [
       "(0.0322371132996414, 1.1369483087311032)"
      ]
     },
     "execution_count": 13,
     "metadata": {},
     "output_type": "execute_result"
    }
   ],
   "source": [
    "test_data.mean(), test_data.std()"
   ]
  },
  {
   "cell_type": "code",
   "execution_count": 14,
   "id": "9d67b464-e0dd-4a1b-b0de-8ea34523e04c",
   "metadata": {},
   "outputs": [],
   "source": [
    "dpu = overlay.runner\n",
    "\n",
    "inputTensors = dpu.get_input_tensors()\n",
    "outputTensors = dpu.get_output_tensors()\n",
    "\n",
    "shapeIn = tuple(inputTensors[0].dims)\n",
    "shapeOut = tuple(outputTensors[0].dims)\n",
    "outputSize = int(outputTensors[0].get_data_size() / shapeIn[0])\n",
    "\n",
    "softmax = np.empty(outputSize)"
   ]
  },
  {
   "cell_type": "code",
   "execution_count": 15,
   "id": "26387715-2f5e-4c94-a24f-f530b67bb50f",
   "metadata": {},
   "outputs": [
    {
     "data": {
      "text/plain": [
       "((1, 32, 32, 3), (1, 10))"
      ]
     },
     "execution_count": 15,
     "metadata": {},
     "output_type": "execute_result"
    }
   ],
   "source": [
    "shapeIn, shapeOut"
   ]
  },
  {
   "cell_type": "code",
   "execution_count": 16,
   "id": "3458178e-8283-4ba6-aae3-ce9ae97ae4c4",
   "metadata": {},
   "outputs": [],
   "source": [
    "output_data = [np.empty(shapeOut, dtype=np.float32, order=\"C\")]\n",
    "input_data = [np.empty(shapeIn, dtype=np.float32, order=\"C\")]\n",
    "image = input_data[0]"
   ]
  },
  {
   "cell_type": "code",
   "execution_count": 17,
   "id": "8e61d219-da2a-4870-9f4f-a9cee6e215df",
   "metadata": {},
   "outputs": [
    {
     "data": {
      "text/plain": [
       "(1, 32, 32, 3)"
      ]
     },
     "execution_count": 17,
     "metadata": {},
     "output_type": "execute_result"
    }
   ],
   "source": [
    "input_data[0].shape"
   ]
  },
  {
   "cell_type": "code",
   "execution_count": 18,
   "id": "208c4caa-1d56-4132-ae9b-6c44265c10af",
   "metadata": {},
   "outputs": [],
   "source": [
    "def calculate_softmax(data):\n",
    "    result = np.exp(data)\n",
    "    return result"
   ]
  },
  {
   "cell_type": "code",
   "execution_count": 19,
   "id": "01815457-188b-46f1-a8f2-bda6e0633bbb",
   "metadata": {},
   "outputs": [
    {
     "data": {
      "text/plain": [
       "(25909, 32, 32, 3)"
      ]
     },
     "execution_count": 19,
     "metadata": {},
     "output_type": "execute_result"
    }
   ],
   "source": [
    "test_data.shape"
   ]
  },
  {
   "cell_type": "code",
   "execution_count": 20,
   "id": "c465aa60-d082-4d28-96a7-8eef1f45d53e",
   "metadata": {},
   "outputs": [
    {
     "data": {
      "text/plain": [
       "(1, 32, 32, 3)"
      ]
     },
     "execution_count": 20,
     "metadata": {},
     "output_type": "execute_result"
    }
   ],
   "source": [
    "image[0,...] = test_data[0]\n",
    "\n",
    "image.shape"
   ]
  },
  {
   "cell_type": "code",
   "execution_count": 21,
   "id": "b69c4e14-ae8c-471a-ae44-f71290d7845e",
   "metadata": {},
   "outputs": [],
   "source": [
    "classes = ['zero', 'one' , 'two',\n",
    "    'three', 'four', 'five',\n",
    "    'six', 'seven', 'eight', 'nine']\n",
    "\n",
    "clases_np= np.array(classes)\n",
    "\n",
    "# test_label"
   ]
  },
  {
   "cell_type": "code",
   "execution_count": 22,
   "id": "27c469a5-fc3e-437e-9020-cfb3ab5c7cf4",
   "metadata": {},
   "outputs": [
    {
     "data": {
      "text/plain": [
       "array([[[0.66666667, 0.64313725, 0.61568627],\n",
       "        [0.66666667, 0.64313725, 0.61568627],\n",
       "        [0.6627451 , 0.63921569, 0.61176471],\n",
       "        ...,\n",
       "        [0.61568627, 0.58823529, 0.57647059],\n",
       "        [0.63921569, 0.60392157, 0.59215686],\n",
       "        [0.65098039, 0.61568627, 0.60392157]],\n",
       "\n",
       "       [[0.66666667, 0.64313725, 0.61568627],\n",
       "        [0.66666667, 0.64313725, 0.61568627],\n",
       "        [0.6627451 , 0.63921569, 0.61568627],\n",
       "        ...,\n",
       "        [0.6       , 0.57254902, 0.56078431],\n",
       "        [0.62745098, 0.59215686, 0.58039216],\n",
       "        [0.63921569, 0.60392157, 0.59215686]],\n",
       "\n",
       "       [[0.65882353, 0.63529412, 0.60784314],\n",
       "        [0.65882353, 0.63529412, 0.60784314],\n",
       "        [0.65490196, 0.63137255, 0.60784314],\n",
       "        ...,\n",
       "        [0.57647059, 0.54509804, 0.53333333],\n",
       "        [0.6       , 0.56470588, 0.55294118],\n",
       "        [0.61176471, 0.57647059, 0.56470588]],\n",
       "\n",
       "       ...,\n",
       "\n",
       "       [[0.62352941, 0.6       , 0.57254902],\n",
       "        [0.62352941, 0.6       , 0.57254902],\n",
       "        [0.62745098, 0.60392157, 0.57647059],\n",
       "        ...,\n",
       "        [0.43137255, 0.39215686, 0.3254902 ],\n",
       "        [0.45882353, 0.42352941, 0.35686275],\n",
       "        [0.4745098 , 0.43921569, 0.37254902]],\n",
       "\n",
       "       [[0.61960784, 0.59607843, 0.56862745],\n",
       "        [0.61960784, 0.6       , 0.56862745],\n",
       "        [0.62745098, 0.60392157, 0.57647059],\n",
       "        ...,\n",
       "        [0.45098039, 0.40392157, 0.34117647],\n",
       "        [0.4745098 , 0.43529412, 0.36862745],\n",
       "        [0.48627451, 0.45098039, 0.38431373]],\n",
       "\n",
       "       [[0.61960784, 0.59607843, 0.56862745],\n",
       "        [0.61960784, 0.6       , 0.56862745],\n",
       "        [0.62745098, 0.60392157, 0.57647059],\n",
       "        ...,\n",
       "        [0.4627451 , 0.41176471, 0.34509804],\n",
       "        [0.48235294, 0.43921569, 0.37254902],\n",
       "        [0.49411765, 0.45490196, 0.38823529]]])"
      ]
     },
     "execution_count": 22,
     "metadata": {},
     "output_type": "execute_result"
    }
   ],
   "source": [
    "test_data[1,:,:,:].shape\n",
    "\n",
    "desnorm(test_data[1,:,:,:])"
   ]
  },
  {
   "cell_type": "code",
   "execution_count": 23,
   "id": "3737cb3d-2e6e-4fe0-9f43-47fefc815e44",
   "metadata": {},
   "outputs": [
    {
     "data": {
      "image/png": "[encoded data removed]",
      "text/plain": [
       "<Figure size 864x864 with 8 Axes>"
      ]
     },
     "metadata": {
      "needs_background": "light"
     },
     "output_type": "display_data"
    }
   ],
   "source": [
    "num_pics  = 8\n",
    "fix, ax = plt.subplots(1, num_pics, figsize=(12,12))\n",
    "plt.tight_layout()\n",
    "for i in range(num_pics):\n",
    "    \n",
    "    image[0,...] = test_data[i]\n",
    "    job_id = dpu.execute_async(input_data, output_data)\n",
    "    dpu.wait(job_id)\n",
    "    temp = [j.reshape(1, outputSize) for j in output_data]\n",
    "    softmax = calculate_softmax(temp[0][0])\n",
    "    prediction = softmax.argmax()\n",
    "\n",
    "    ax[i].set_title('Prediction: ' + classes[prediction])\n",
    "    ax[i].axis('off')\n",
    "    ax[i].imshow(desnorm(test_data[i,:,:,:]))"
   ]
  },
  {
   "cell_type": "code",
   "execution_count": 24,
   "id": "2a6b8352-3615-4039-98c5-5b91d143973f",
   "metadata": {},
   "outputs": [
    {
     "name": "stdout",
     "output_type": "stream",
     "text": [
      "Classifying 25909 digit pictures ...\n",
      "Overall accuracy: 0.9605928441854182\n",
      "  Execution time: 10.5027s\n",
      "      Throughput: 2466.8782FPS\n"
     ]
    }
   ],
   "source": [
    "total = test_data.shape[0]\n",
    "test_label=np.array(labels)\n",
    "predictions = np.empty_like(test_label)\n",
    "print(\"Classifying {} digit pictures ...\".format(total))\n",
    "correct=0\n",
    "start = time()\n",
    "for i in range(total):\n",
    "    image[0,...] = test_data[i]\n",
    "    job_id = dpu.execute_async(input_data, output_data)\n",
    "    dpu.wait(job_id)\n",
    "    temp = [j.reshape(1, outputSize) for j in output_data]\n",
    "    softmax = calculate_softmax(temp[0][0])\n",
    "    predictions[i] = softmax.argmax()\n",
    "    if classes[int(predictions[i])]==test_label[i]:\n",
    "        correct+=1\n",
    "stop = time()\n",
    "#correct = np.sum(clases_np[predictions]==test_label)\n",
    "execution_time = stop-start\n",
    "print(\"Overall accuracy: {}\".format(correct/total))\n",
    "print(\"  Execution time: {:.4f}s\".format(execution_time))\n",
    "print(\"      Throughput: {:.4f}FPS\".format(total/execution_time))"
   ]
  },
  {
   "cell_type": "code",
   "execution_count": 26,
   "id": "9d155a2f-0594-4be4-a2c6-2763b5fa2790",
   "metadata": {},
   "outputs": [],
   "source": [
    "def latency_measurement():\n",
    "    image[0,...] = test_data[0]\n",
    "    job_id = dpu.execute_async(input_data, output_data)\n",
    "    dpu.wait(job_id)\n",
    "    temp = [j.reshape(1, outputSize) for j in output_data]\n",
    "    softmax = calculate_softmax(temp[0][0])\n",
    "    predictions  = softmax.argmax()"
   ]
  },
  {
   "cell_type": "code",
   "execution_count": 27,
   "id": "c04610b1-8efc-4eeb-8563-30f4ee6496e8",
   "metadata": {},
   "outputs": [
    {
     "name": "stdout",
     "output_type": "stream",
     "text": [
      "648 µs ± 383 µs per loop (mean ± std. dev. of 7 runs, 1 loop each)\n"
     ]
    }
   ],
   "source": [
    "one_image_validation_time = %timeit -n 1 -o latency_measurement()"
   ]
  },
  {
   "cell_type": "code",
   "execution_count": 29,
   "id": "530c2c11-0533-4231-a14f-83b5f19680ec",
   "metadata": {},
   "outputs": [
    {
     "data": {
      "text/plain": [
       "0.00037981300192768686"
      ]
     },
     "execution_count": 29,
     "metadata": {},
     "output_type": "execute_result"
    }
   ],
   "source": [
    "one_image_validation_time.best"
   ]
  },
  {
   "cell_type": "code",
   "execution_count": 30,
   "id": "10ce0824-3ef4-400c-b0ed-aba9bb901d74",
   "metadata": {},
   "outputs": [],
   "source": [
    "del overlay\n",
    "del dpu"
   ]
  },
  {
   "cell_type": "code",
   "execution_count": null,
   "id": "db89fe60-1726-4ece-abd2-bd6e221e1b48",
   "metadata": {},
   "outputs": [],
   "source": []
  }
 ],
 "metadata": {
  "kernelspec": {
   "display_name": "Python 3",
   "language": "python",
   "name": "python3"
  },
  "language_info": {
   "codemirror_mode": {
    "name": "ipython",
    "version": 3
   },
   "file_extension": ".py",
   "mimetype": "text/x-python",
   "name": "python",
   "nbconvert_exporter": "python",
   "pygments_lexer": "ipython3",
   "version": "3.8.10"
  }
 },
 "nbformat": 4,
 "nbformat_minor": 5
}
