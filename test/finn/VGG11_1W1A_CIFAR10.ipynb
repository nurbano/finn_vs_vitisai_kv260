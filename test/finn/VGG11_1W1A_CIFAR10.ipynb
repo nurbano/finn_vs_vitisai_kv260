{
 "cells": [
  {
   "cell_type": "code",
   "execution_count": 1,
   "id": "2044a7ef",
   "metadata": {},
   "outputs": [
    {
     "name": "stderr",
     "output_type": "stream",
     "text": [
      "/usr/local/share/pynq-venv/lib/python3.8/site-packages/pydantic/_internal/_config.py:322: UserWarning: Valid config keys have changed in V2:\n",
      "* 'underscore_attrs_are_private' has been removed\n",
      "  warnings.warn(message, UserWarning)\n",
      "/usr/local/share/pynq-venv/lib/python3.8/site-packages/pydantic/_internal/_config.py:322: UserWarning: Valid config keys have changed in V2:\n",
      "* 'underscore_attrs_are_private' has been removed\n",
      "  warnings.warn(message, UserWarning)\n",
      "/usr/local/share/pynq-venv/lib/python3.8/site-packages/pynq/pl_server/xrt_device.py:59: UserWarning: xbutil failed to run - unable to determine XRT version\n",
      "  warnings.warn(\"xbutil failed to run - unable to determine XRT version\")\n"
     ]
    }
   ],
   "source": [
    "from finn_examples.driver import FINNExampleOverlay\n",
    "from qonnx.core.datatype import DataType\n",
    "import os\n",
    "import numpy as np\n",
    "import cv2\n",
    "import matplotlib.pyplot as plt\n",
    "%matplotlib inline\n"
   ]
  },
  {
   "cell_type": "code",
   "execution_count": 2,
   "id": "c430061d",
   "metadata": {},
   "outputs": [],
   "source": [
    "_cifar10_cnv_io_shape_dict = {\n",
    "    \"idt\" : [DataType['UINT8']],\n",
    "    \"odt\" : [DataType['UINT8']],\n",
    "    \"ishape_normal\" : [(1, 32, 32, 3)],\n",
    "    \"oshape_normal\" : [(1, 1)],\n",
    "    \"ishape_folded\" : [(1, 32, 32, 3, 1)],\n",
    "    \"oshape_folded\" : [(1, 1, 1)],\n",
    "    \"ishape_packed\" : [(1, 32, 32, 3, 1)],\n",
    "    \"oshape_packed\" : [(1, 1, 1)],\n",
    "    \"input_dma_name\" : ['idma0'],\n",
    "    \"output_dma_name\" : ['odma0'],\n",
    "    \"number_of_external_weights\": 0,\n",
    "    \"num_inputs\" : 1,\n",
    "    \"num_outputs\" : 1,\n",
    "}\n"
   ]
  },
  {
   "cell_type": "code",
   "execution_count": 3,
   "id": "4edadcef-47a1-49fe-bffc-ce2b61ba14d2",
   "metadata": {},
   "outputs": [],
   "source": [
    "home= !pwd"
   ]
  },
  {
   "cell_type": "code",
   "execution_count": 4,
   "id": "877e056f-c81b-4b04-9458-823e8823e982",
   "metadata": {},
   "outputs": [
    {
     "data": {
      "text/plain": [
       "'/home/root/jupyter_notebooks/case_2024/finn'"
      ]
     },
     "execution_count": 4,
     "metadata": {},
     "output_type": "execute_result"
    }
   ],
   "source": [
    "pwd"
   ]
  },
  {
   "cell_type": "code",
   "execution_count": 5,
   "id": "9a8a896f",
   "metadata": {
    "scrolled": true
   },
   "outputs": [
    {
     "name": "stdout",
     "output_type": "stream",
     "text": [
      "\u001b[0m\u001b[0m1_0_StreamingDataflowPartition_1_MatrixVectorActivation_5.dat\u001b[0m\n",
      "\u001b[0m2_0_StreamingDataflowPartition_2_MatrixVectorActivation_6.dat\u001b[0m\n",
      "\u001b[0m3_0_StreamingDataflowPartition_3_MatrixVectorActivation_7.dat\u001b[0m\n"
     ]
    }
   ],
   "source": [
    "ls {home[0]}{'/runtime_weights'}"
   ]
  },
  {
   "cell_type": "code",
   "execution_count": 6,
   "id": "f42783c6",
   "metadata": {},
   "outputs": [
    {
     "data": {
      "application/javascript": [
       "\n",
       "try {\n",
       "require(['notebook/js/codecell'], function(codecell) {\n",
       "  codecell.CodeCell.options_default.highlight_modes[\n",
       "      'magic_text/x-csrc'] = {'reg':[/^%%microblaze/]};\n",
       "  Jupyter.notebook.events.one('kernel_ready.Kernel', function(){\n",
       "      Jupyter.notebook.get_cells().map(function(cell){\n",
       "          if (cell.cell_type == 'code'){ cell.auto_highlight(); } }) ;\n",
       "  });\n",
       "});\n",
       "} catch (e) {};\n"
      ]
     },
     "metadata": {},
     "output_type": "display_data"
    },
    {
     "data": {
      "application/javascript": [
       "\n",
       "try {\n",
       "require(['notebook/js/codecell'], function(codecell) {\n",
       "  codecell.CodeCell.options_default.highlight_modes[\n",
       "      'magic_text/x-csrc'] = {'reg':[/^%%pybind11/]};\n",
       "  Jupyter.notebook.events.one('kernel_ready.Kernel', function(){\n",
       "      Jupyter.notebook.get_cells().map(function(cell){\n",
       "          if (cell.cell_type == 'code'){ cell.auto_highlight(); } }) ;\n",
       "  });\n",
       "});\n",
       "} catch (e) {};\n"
      ]
     },
     "metadata": {},
     "output_type": "display_data"
    },
    {
     "name": "stdout",
     "output_type": "stream",
     "text": [
      "1_0_StreamingDataflowPartition_1_MatrixVectorActivation_5.dat\n",
      "dict_keys([(1, 0)])\n",
      "3_0_StreamingDataflowPartition_3_MatrixVectorActivation_7.dat\n",
      "dict_keys([(1, 0), (3, 0)])\n",
      "2_0_StreamingDataflowPartition_2_MatrixVectorActivation_6.dat\n",
      "dict_keys([(1, 0), (3, 0), (2, 0)])\n",
      "dict_keys(['idma0', 'StreamingDataflowPartition_1', 'StreamingDataflowPartition_2', 'StreamingDataflowPartition_3', 'odma0', 'zynq_ps'])\n",
      "StreamingDataflowPartition_1\n",
      "<pynq.overlay.DefaultIP object at 0xffff4a9af4c0>\n",
      "1 0\n",
      "Cargando...\n",
      "dict_keys(['idma0', 'StreamingDataflowPartition_1', 'StreamingDataflowPartition_2', 'StreamingDataflowPartition_3', 'odma0', 'zynq_ps'])\n",
      "StreamingDataflowPartition_3\n",
      "<pynq.overlay.DefaultIP object at 0xffff4a9af7f0>\n",
      "3 0\n",
      "Cargando...\n",
      "dict_keys(['idma0', 'StreamingDataflowPartition_1', 'StreamingDataflowPartition_2', 'StreamingDataflowPartition_3', 'odma0', 'zynq_ps'])\n",
      "StreamingDataflowPartition_2\n",
      "<pynq.overlay.DefaultIP object at 0xffff4a9af730>\n",
      "2 0\n",
      "Cargando...\n"
     ]
    }
   ],
   "source": [
    "# filename= \"cnn_1w1a.bit\"\n",
    "filename=\"./models/vgg11_1w1a_v2.bit\"\n",
    "driver_mode= \"zynq-iodma\"\n",
    "accel= FINNExampleOverlay(filename, driver_mode, _cifar10_cnv_io_shape_dict, runtime_weight_dir='/home/root/jupyter_notebooks/case_2024/finn/runtime_weights/')"
   ]
  },
  {
   "cell_type": "code",
   "execution_count": 7,
   "id": "f8b543da-ad2f-416a-94d6-e57e343678bb",
   "metadata": {},
   "outputs": [
    {
     "data": {
      "text/plain": [
       "<finn_examples.driver.FINNExampleOverlay at 0xffff80fa5100>"
      ]
     },
     "execution_count": 7,
     "metadata": {},
     "output_type": "execute_result"
    }
   ],
   "source": [
    "accel"
   ]
  },
  {
   "cell_type": "code",
   "execution_count": 8,
   "id": "f28927bd",
   "metadata": {},
   "outputs": [
    {
     "name": "stdout",
     "output_type": "stream",
     "text": [
      "Tar File found in dest_dir. Not Downloading again\n",
      "Extracting Python CIFAR10 data.\n",
      "Files extracted\n"
     ]
    }
   ],
   "source": [
    "from dataset_loading import cifar\n",
    "trainx, trainy, testx, testy, valx, valy = cifar.load_cifar_data(\"/home/root/jupyter_notebooks/case_2024/dataset\", download=True, one_hot=False)"
   ]
  },
  {
   "cell_type": "code",
   "execution_count": 9,
   "id": "ea07285d",
   "metadata": {},
   "outputs": [],
   "source": [
    "test_single_x = testx[40]\n",
    "test_single_y = testy[40]\n",
    "cifar10_class_names = ['Airplane', 'Automobile', 'Bird', 'Cat', 'Deer', 'Dog', 'Frog', 'Horse', 'Ship', 'Truck']\n"
   ]
  },
  {
   "cell_type": "code",
   "execution_count": 10,
   "id": "238c21c3",
   "metadata": {},
   "outputs": [
    {
     "data": {
      "image/png": "[encoded data removed]",
      "text/plain": [
       "<Figure size 432x288 with 1 Axes>"
      ]
     },
     "metadata": {
      "needs_background": "light"
     },
     "output_type": "display_data"
    }
   ],
   "source": [
    "%matplotlib inline\n",
    "from matplotlib import pyplot as plt\n",
    "\n",
    "plt.imshow(test_single_x)\n",
    "plt.show()"
   ]
  },
  {
   "cell_type": "code",
   "execution_count": 11,
   "id": "b0b7019d-79da-4e3f-943e-d19884088c2f",
   "metadata": {},
   "outputs": [
    {
     "data": {
      "text/plain": [
       "246"
      ]
     },
     "execution_count": 11,
     "metadata": {},
     "output_type": "execute_result"
    }
   ],
   "source": [
    "test_single_x.max()"
   ]
  },
  {
   "cell_type": "code",
   "execution_count": 12,
   "id": "fea9bb7d",
   "metadata": {},
   "outputs": [
    {
     "data": {
      "text/plain": [
       "(32, 32, 3)"
      ]
     },
     "execution_count": 12,
     "metadata": {},
     "output_type": "execute_result"
    }
   ],
   "source": [
    "test_single_x.shape"
   ]
  },
  {
   "cell_type": "code",
   "execution_count": 13,
   "id": "5cc17202",
   "metadata": {},
   "outputs": [
    {
     "name": "stdout",
     "output_type": "stream",
     "text": [
      "Expected class is 4 (Deer)\n"
     ]
    }
   ],
   "source": [
    "print(\"Expected class is %d (%s)\" % (test_single_y, cifar10_class_names[test_single_y]))"
   ]
  },
  {
   "cell_type": "code",
   "execution_count": 14,
   "id": "e2b4e771",
   "metadata": {},
   "outputs": [
    {
     "name": "stdout",
     "output_type": "stream",
     "text": [
      "Input buffer shape is (1, 32, 32, 3) and datatype is uint8\n"
     ]
    }
   ],
   "source": [
    "accel.batch_size = 1\n",
    "accel_in = test_single_x.reshape(accel.ishape_normal())\n",
    "print(\"Input buffer shape is %s and datatype is %s\" % (str(accel_in.shape), str(accel_in.dtype)))"
   ]
  },
  {
   "cell_type": "code",
   "execution_count": 15,
   "id": "b412bb19-7063-4014-8287-bea946db5fe4",
   "metadata": {},
   "outputs": [
    {
     "data": {
      "text/plain": [
       "'/home/root/jupyter_notebooks/case_2024/finn/runtime_weights/'"
      ]
     },
     "execution_count": 15,
     "metadata": {},
     "output_type": "execute_result"
    }
   ],
   "source": [
    "accel.runtime_weight_dir\n"
   ]
  },
  {
   "cell_type": "code",
   "execution_count": 16,
   "id": "2ec3373d",
   "metadata": {},
   "outputs": [],
   "source": [
    "accel_out = accel.execute(accel_in)"
   ]
  },
  {
   "cell_type": "code",
   "execution_count": 17,
   "id": "7105659c",
   "metadata": {},
   "outputs": [
    {
     "data": {
      "text/plain": [
       "PynqBuffer([[6.]], dtype=float32)"
      ]
     },
     "execution_count": 17,
     "metadata": {},
     "output_type": "execute_result"
    }
   ],
   "source": [
    "accel_out"
   ]
  },
  {
   "cell_type": "code",
   "execution_count": 18,
   "id": "362dac97",
   "metadata": {},
   "outputs": [
    {
     "name": "stdout",
     "output_type": "stream",
     "text": [
      "Returned class is 6\n"
     ]
    }
   ],
   "source": [
    "print(\"Returned class is %d\" % accel_out)"
   ]
  },
  {
   "cell_type": "code",
   "execution_count": 19,
   "id": "6dbdabe3",
   "metadata": {},
   "outputs": [
    {
     "data": {
      "image/png": "[encoded data removed]",
      "text/plain": [
       "<Figure size 864x864 with 8 Axes>"
      ]
     },
     "metadata": {
      "needs_background": "light"
     },
     "output_type": "display_data"
    }
   ],
   "source": [
    "num_pics  = 8\n",
    "fix, ax = plt.subplots(1, num_pics, figsize=(12,12))\n",
    "plt.tight_layout()\n",
    "for i in range(num_pics):\n",
    "    \n",
    "    accel_in = testx[i].reshape(accel.ishape_normal())\n",
    "    accel_out = accel.execute(accel_in)\n",
    "    prediction = accel_out\n",
    "\n",
    "    ax[i].set_title(cifar10_class_names[int(prediction)])\n",
    "    ax[i].axis('off')\n",
    "    ax[i].imshow(testx[i])"
   ]
  },
  {
   "cell_type": "code",
   "execution_count": 20,
   "id": "b482fc0c",
   "metadata": {},
   "outputs": [
    {
     "data": {
      "text/plain": [
       "{'runtime[ms]': 13.211250305175781,\n",
       " 'throughput[images/s]': 75.69306287446763,\n",
       " 'DRAM_in_bandwidth[MB/s]': 0.23252908915036455,\n",
       " 'DRAM_out_bandwidth[MB/s]': 7.569306287446762e-05,\n",
       " 'fclk[mhz]': 99.999,\n",
       " 'batch_size': 1,\n",
       " 'fold_input[ms]': 0.0400543212890625,\n",
       " 'pack_input[ms]': 0.03528594970703125,\n",
       " 'copy_input_data_to_device[ms]': 0.27751922607421875,\n",
       " 'copy_output_data_from_device[ms]': 0.10395050048828125,\n",
       " 'unpack_output[ms]': 0.3452301025390625,\n",
       " 'unfold_output[ms]': 0.06008148193359375}"
      ]
     },
     "execution_count": 20,
     "metadata": {},
     "output_type": "execute_result"
    }
   ],
   "source": [
    "accel.throughput_test()"
   ]
  },
  {
   "cell_type": "code",
   "execution_count": 21,
   "id": "3a7efd65",
   "metadata": {},
   "outputs": [
    {
     "name": "stdout",
     "output_type": "stream",
     "text": [
      "Overall accuracy: 0.1392\n",
      "  Execution time: 137.6671s\n",
      "      Throughput: 72.6390FPS\n"
     ]
    }
   ],
   "source": [
    "from time import time\n",
    "\n",
    "correct= 0\n",
    "total= len(testx)\n",
    "start = time()\n",
    "\n",
    "for i in range(total):\n",
    "    \n",
    "    accel_in = testx[i].reshape(accel.ishape_normal())\n",
    "    accel_out = accel.execute(accel_in)\n",
    "    \n",
    "    prediction = int(accel_out[0])\n",
    "    if prediction==testy[i]:\n",
    "        correct+=1\n",
    "\n",
    "stop = time()\n",
    "#correct = np.sum(clases_np[predictions]==test_label)\n",
    "execution_time = stop-start\n",
    "print(\"Overall accuracy: {}\".format(correct/total))\n",
    "print(\"  Execution time: {:.4f}s\".format(execution_time))\n",
    "print(\"      Throughput: {:.4f}FPS\".format(total/execution_time))    "
   ]
  },
  {
   "cell_type": "code",
   "execution_count": 23,
   "id": "f21592ca",
   "metadata": {},
   "outputs": [
    {
     "name": "stdout",
     "output_type": "stream",
     "text": [
      "Ready to run validation, test images tensor has shape (10, 1000, 3072)\n",
      "Accelerator buffer shapes are (1000, 32, 32, 3, 1) for input, (1000, 1, 1) for output\n"
     ]
    }
   ],
   "source": [
    "import numpy as np\n",
    "\n",
    "batch_size = 1000\n",
    "total = testx.shape[0]\n",
    "accel.batch_size = batch_size\n",
    "n_batches = int(total / batch_size)\n",
    "\n",
    "batch_imgs = testx.reshape(n_batches, batch_size, -1)\n",
    "batch_labels = testy.reshape(n_batches, batch_size)\n",
    "obuf_normal = np.empty_like(accel.obuf_packed_device)\n",
    "print(\"Ready to run validation, test images tensor has shape %s\" % str(batch_imgs.shape))\n",
    "print(\"Accelerator buffer shapes are %s for input, %s for output\" % (str(accel.ishape_packed()), str(accel.oshape_packed())))"
   ]
  },
  {
   "cell_type": "code",
   "execution_count": null,
   "id": "795c114c-abc7-4ea6-b92b-81285ad12b05",
   "metadata": {},
   "outputs": [],
   "source": []
  },
  {
   "cell_type": "code",
   "execution_count": 29,
   "id": "a3271adf",
   "metadata": {},
   "outputs": [
    {
     "name": "stdout",
     "output_type": "stream",
     "text": [
      "batch 0 / 10 : total OK 146 NOK 854\n",
      "batch 1 / 10 : total OK 284 NOK 1716\n",
      "batch 2 / 10 : total OK 409 NOK 2591\n",
      "batch 3 / 10 : total OK 531 NOK 3469\n",
      "batch 4 / 10 : total OK 677 NOK 4323\n",
      "batch 5 / 10 : total OK 825 NOK 5175\n",
      "batch 6 / 10 : total OK 962 NOK 6038\n",
      "batch 7 / 10 : total OK 1090 NOK 6910\n",
      "batch 8 / 10 : total OK 1247 NOK 7753\n",
      "batch 9 / 10 : total OK 1392 NOK 8608\n"
     ]
    }
   ],
   "source": [
    "ok = 0\n",
    "nok = 0\n",
    "for i in range(n_batches):\n",
    "    ibuf_normal = batch_imgs[i].reshape(accel.ibuf_packed_device[0].shape)\n",
    "    \n",
    "    exp = batch_labels[i]\n",
    "    accel.copy_input_data_to_device(ibuf_normal)\n",
    "    accel.execute_on_buffers()\n",
    "    obuf_normal = np.empty_like(accel.obuf_packed_device[0])\n",
    "    accel.copy_output_data_from_device(obuf_normal)\n",
    "    ret = np.bincount(obuf_normal.flatten() == exp.flatten())\n",
    "#     ibuf_normal = batch_imgs[i].reshape(accel.ishape_normal())\n",
    "#     exp = batch_labels[i]\n",
    "#     obuf_normal = accel.execute(ibuf_normal)\n",
    "#     ret = np.bincount(obuf_normal.flatten() == exp.flatten())\n",
    "    nok += ret[0]\n",
    "    ok += ret[1]\n",
    "    print(\"batch %d / %d : total OK %d NOK %d\" % (i, n_batches, ok, nok))"
   ]
  },
  {
   "cell_type": "code",
   "execution_count": 25,
   "id": "30606849",
   "metadata": {},
   "outputs": [
    {
     "name": "stdout",
     "output_type": "stream",
     "text": [
      "Final accuracy: 13.92%\n"
     ]
    }
   ],
   "source": [
    "acc = 100.0 * ok / (total)\n",
    "print(\"Final accuracy: {}%\".format(acc))"
   ]
  },
  {
   "cell_type": "code",
   "execution_count": 26,
   "id": "c5a7dc37",
   "metadata": {},
   "outputs": [],
   "source": [
    "def run_validation():\n",
    "    for i in range(n_batches):\n",
    "        ibuf_normal = batch_imgs[i].reshape(accel.ishape_normal())\n",
    "        exp = batch_labels[i]\n",
    "        accel.execute(ibuf_normal)"
   ]
  },
  {
   "cell_type": "code",
   "execution_count": 27,
   "id": "87db1945",
   "metadata": {},
   "outputs": [
    {
     "name": "stdout",
     "output_type": "stream",
     "text": [
      "19.8 s ± 259 µs per loop (mean ± std. dev. of 7 runs, 1 loop each)\n"
     ]
    }
   ],
   "source": [
    "full_validation_time = %timeit -n 1 -o run_validation()"
   ]
  },
  {
   "cell_type": "code",
   "execution_count": 28,
   "id": "4db1659b",
   "metadata": {},
   "outputs": [
    {
     "name": "stdout",
     "output_type": "stream",
     "text": [
      "505.028939 images per second including data movement\n"
     ]
    }
   ],
   "source": [
    "print(\"%f images per second including data movement\" % (total / float(full_validation_time.best)))"
   ]
  },
  {
   "cell_type": "code",
   "execution_count": 30,
   "id": "1a414c77-5294-4ed6-b7c1-0dd892096603",
   "metadata": {},
   "outputs": [],
   "source": [
    "run_validation()"
   ]
  },
  {
   "cell_type": "code",
   "execution_count": 30,
   "id": "92a5468e",
   "metadata": {},
   "outputs": [],
   "source": [
    "del accel"
   ]
  },
  {
   "cell_type": "code",
   "execution_count": null,
   "id": "e28dd94f",
   "metadata": {},
   "outputs": [],
   "source": []
  }
 ],
 "metadata": {
  "kernelspec": {
   "display_name": "Python 3",
   "language": "python",
   "name": "python3"
  },
  "language_info": {
   "codemirror_mode": {
    "name": "ipython",
    "version": 3
   },
   "file_extension": ".py",
   "mimetype": "text/x-python",
   "name": "python",
   "nbconvert_exporter": "python",
   "pygments_lexer": "ipython3",
   "version": "3.8.10"
  }
 },
 "nbformat": 4,
 "nbformat_minor": 5
}
